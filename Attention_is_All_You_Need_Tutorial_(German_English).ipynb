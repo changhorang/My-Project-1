{
  "nbformat": 4,
  "nbformat_minor": 0,
  "metadata": {
    "colab": {
      "name": "Attention is All You Need Tutorial (German-English)",
      "provenance": [],
      "collapsed_sections": [],
      "machine_shape": "hm",
      "authorship_tag": "ABX9TyOAHWYGO1OGLDMwsRXeTfLD",
      "include_colab_link": true
    },
    "kernelspec": {
      "name": "python3",
      "display_name": "Python 3"
    },
    "language_info": {
      "name": "python"
    },
    "accelerator": "GPU"
  },
  "cells": [
    {
      "cell_type": "markdown",
      "metadata": {
        "id": "view-in-github",
        "colab_type": "text"
      },
      "source": [
        "<a href=\"https://colab.research.google.com/github/changhorang/My-Project-1/blob/master/Attention_is_All_You_Need_Tutorial_(German_English).ipynb\" target=\"_parent\"><img src=\"https://colab.research.google.com/assets/colab-badge.svg\" alt=\"Open In Colab\"/></a>"
      ]
    },
    {
      "cell_type": "markdown",
      "metadata": {
        "id": "irzADe3QmGi4"
      },
      "source": [
        "**Attention is All You Need Tutorial (NIPS 2017) 실습**\n",
        "- Transformer 논문의 내용 기반"
      ]
    },
    {
      "cell_type": "markdown",
      "metadata": {
        "id": "5C1KePqflm0S"
      },
      "source": [
        "BLEU Score 계산을 위한 라이브러리 업데이트\n",
        "- [Restart Runtime] 버튼을 눌러 런타임을 재시"
      ]
    },
    {
      "cell_type": "code",
      "metadata": {
        "colab": {
          "base_uri": "https://localhost:8080/"
        },
        "id": "xC4fAFl6m2WX",
        "outputId": "ab7c70f4-df26-4411-ba7b-0d33576f7ae0"
      },
      "source": [
        "!pip install torchtext==0.6.0"
      ],
      "execution_count": 1,
      "outputs": [
        {
          "output_type": "stream",
          "text": [
            "Collecting torchtext==0.6.0\n",
            "\u001b[?25l  Downloading https://files.pythonhosted.org/packages/f2/17/e7c588245aece7aa93f360894179374830daf60d7ed0bbb59332de3b3b61/torchtext-0.6.0-py3-none-any.whl (64kB)\n",
            "\r\u001b[K     |█████                           | 10kB 28.1MB/s eta 0:00:01\r\u001b[K     |██████████▏                     | 20kB 12.9MB/s eta 0:00:01\r\u001b[K     |███████████████▎                | 30kB 7.6MB/s eta 0:00:01\r\u001b[K     |████████████████████▍           | 40kB 3.5MB/s eta 0:00:01\r\u001b[K     |█████████████████████████▌      | 51kB 4.2MB/s eta 0:00:01\r\u001b[K     |██████████████████████████████▋ | 61kB 4.7MB/s eta 0:00:01\r\u001b[K     |████████████████████████████████| 71kB 3.8MB/s \n",
            "\u001b[?25hRequirement already satisfied: tqdm in /usr/local/lib/python3.7/dist-packages (from torchtext==0.6.0) (4.41.1)\n",
            "Collecting sentencepiece\n",
            "\u001b[?25l  Downloading https://files.pythonhosted.org/packages/ac/aa/1437691b0c7c83086ebb79ce2da16e00bef024f24fec2a5161c35476f499/sentencepiece-0.1.96-cp37-cp37m-manylinux_2_17_x86_64.manylinux2014_x86_64.whl (1.2MB)\n",
            "\u001b[K     |████████████████████████████████| 1.2MB 20.5MB/s \n",
            "\u001b[?25hRequirement already satisfied: six in /usr/local/lib/python3.7/dist-packages (from torchtext==0.6.0) (1.15.0)\n",
            "Requirement already satisfied: requests in /usr/local/lib/python3.7/dist-packages (from torchtext==0.6.0) (2.23.0)\n",
            "Requirement already satisfied: numpy in /usr/local/lib/python3.7/dist-packages (from torchtext==0.6.0) (1.19.5)\n",
            "Requirement already satisfied: torch in /usr/local/lib/python3.7/dist-packages (from torchtext==0.6.0) (1.9.0+cu102)\n",
            "Requirement already satisfied: idna<3,>=2.5 in /usr/local/lib/python3.7/dist-packages (from requests->torchtext==0.6.0) (2.10)\n",
            "Requirement already satisfied: chardet<4,>=3.0.2 in /usr/local/lib/python3.7/dist-packages (from requests->torchtext==0.6.0) (3.0.4)\n",
            "Requirement already satisfied: certifi>=2017.4.17 in /usr/local/lib/python3.7/dist-packages (from requests->torchtext==0.6.0) (2021.5.30)\n",
            "Requirement already satisfied: urllib3!=1.25.0,!=1.25.1,<1.26,>=1.21.1 in /usr/local/lib/python3.7/dist-packages (from requests->torchtext==0.6.0) (1.24.3)\n",
            "Requirement already satisfied: typing-extensions in /usr/local/lib/python3.7/dist-packages (from torch->torchtext==0.6.0) (3.7.4.3)\n",
            "Installing collected packages: sentencepiece, torchtext\n",
            "  Found existing installation: torchtext 0.10.0\n",
            "    Uninstalling torchtext-0.10.0:\n",
            "      Successfully uninstalled torchtext-0.10.0\n",
            "Successfully installed sentencepiece-0.1.96 torchtext-0.6.0\n"
          ],
          "name": "stdout"
        }
      ]
    },
    {
      "cell_type": "markdown",
      "metadata": {
        "id": "-KeBCs75nOc6"
      },
      "source": [
        "**데이터 전처리 (Preprocessing)**\n",
        "- spacy 라이브러리 : 문장의 토큰화(tokenization), 태깅 (tagging) 드으이 전처리 기능을 위한 라이브러리\n",
        " - 영어(English)와 독일(Deutsch) 전처리 모듈 설"
      ]
    },
    {
      "cell_type": "code",
      "metadata": {
        "id": "hIRRtOkJn6ZU"
      },
      "source": [
        "%%capture\n",
        "!python -m spacy download en\n",
        "!python -m spacy download de"
      ],
      "execution_count": 2,
      "outputs": []
    },
    {
      "cell_type": "code",
      "metadata": {
        "id": "m7Hg0N39oGHs"
      },
      "source": [
        "import spacy\n",
        "\n",
        "spacy_en = spacy.load('en') # 영어 토큰화\n",
        "spacy_de = spacy.load('de') # 독일어 토큰화"
      ],
      "execution_count": 3,
      "outputs": []
    },
    {
      "cell_type": "code",
      "metadata": {
        "colab": {
          "base_uri": "https://localhost:8080/"
        },
        "id": "lmqibyRhoa88",
        "outputId": "f3c063de-4919-4ede-b7b2-51b3e80c25be"
      },
      "source": [
        "# 간단히 토큰화 기능 사용\n",
        "tokenized = spacy_en.tokenizer(\"I am a graduate student.\")\n",
        "\n",
        "for i, token in enumerate(tokenized):\n",
        "  print(f\"인덱스 {i}: {token.text}\")"
      ],
      "execution_count": 4,
      "outputs": [
        {
          "output_type": "stream",
          "text": [
            "인덱스 0: I\n",
            "인덱스 1: am\n",
            "인덱스 2: a\n",
            "인덱스 3: graduate\n",
            "인덱스 4: student\n",
            "인덱스 5: .\n"
          ],
          "name": "stdout"
        }
      ]
    },
    {
      "cell_type": "markdown",
      "metadata": {
        "id": "QS5vdFg6rRcI"
      },
      "source": [
        "- 영어 및 독일어 토큰화 함수 정의"
      ]
    },
    {
      "cell_type": "code",
      "metadata": {
        "id": "aQy8gU45rYFd"
      },
      "source": [
        "# 독일어 문장을 토큰화 하는 함수 (순서를 뒤집지 않음)\n",
        "def tokenize_de(text):\n",
        "  return [token.text for token in spacy_de.tokenizer(text)]\n",
        "\n",
        "# 영어 문장을 토큰화 하는 함수\n",
        "def tokenize_en(text):\n",
        "  return [token.text for token in spacy_en.tokenizer(text)]"
      ],
      "execution_count": 5,
      "outputs": []
    },
    {
      "cell_type": "markdown",
      "metadata": {
        "id": "mpanbr3NsFVU"
      },
      "source": [
        "- 필드(field) 라이브러리를 이용해 데이터셋에 대한 구체적인 전처리 내용을 명시\n",
        "- Seq2Seq 모델과는 다르게 batch_first 속성의 값을 True로 설정\n",
        "- 번역 목표\n",
        " - 소스(SRC) : 독일어\n",
        " - 목표(TRF) : 영어"
      ]
    },
    {
      "cell_type": "code",
      "metadata": {
        "id": "vrd4s2m7sfpq"
      },
      "source": [
        "from torchtext.data import Field, BucketIterator\n",
        "\n",
        "SRC = Field(tokenize=tokenize_de, init_token=\"<sos>\", eos_token=\"<eos>\", lower=True, batch_first=True)\n",
        "TRG = Field(tokenize=tokenize_en, init_token=\"<sos>\", eos_token=\"<eos>\", lower=True, batch_first=True)"
      ],
      "execution_count": 9,
      "outputs": []
    },
    {
      "cell_type": "markdown",
      "metadata": {
        "id": "UPzKiwzytqsM"
      },
      "source": [
        "- 대표적인 영어-독어 번역 데이터셋인 Multi30k 불러오기"
      ]
    },
    {
      "cell_type": "code",
      "metadata": {
        "id": "jXoqNVYYty5X"
      },
      "source": [
        "from torchtext.datasets import Multi30k\n",
        "\n",
        "train_dataset, valid_dataset, test_dataset = Multi30k.splits(exts=(\".de\", \".en\"), fields=(SRC, TRG))"
      ],
      "execution_count": 13,
      "outputs": []
    },
    {
      "cell_type": "code",
      "metadata": {
        "colab": {
          "base_uri": "https://localhost:8080/"
        },
        "id": "Z76vjAhCuQhU",
        "outputId": "37115da1-35aa-40db-c2eb-b7bfa78a11b8"
      },
      "source": [
        "print(f\"학습 데이터셋(training dataset) 크기 : {len(train_dataset.examples)}개\")\n",
        "print(f\"평가 데이터셋(validation dataset) 크기 : {len(valid_dataset.examples)}개\")\n",
        "print(f\"테스트 데이터셋(test dataset) 크기 : {len(test_dataset.examples)}개\")"
      ],
      "execution_count": 14,
      "outputs": [
        {
          "output_type": "stream",
          "text": [
            "학습 데이터셋(training dataset) 크기 : 29000개\n",
            "평가 데이터셋(validation dataset) 크기 : 1014개\n",
            "테스트 데이터셋(test dataset) 크기 : 1000개\n"
          ],
          "name": "stdout"
        }
      ]
    },
    {
      "cell_type": "code",
      "metadata": {
        "colab": {
          "base_uri": "https://localhost:8080/"
        },
        "id": "p3b-v5AqvGXq",
        "outputId": "59e400ab-f530-423e-eb30-ed48d00ddd4d"
      },
      "source": [
        "# 학습 데이터중 하나를 선택해 출력\n",
        "print(vars(train_dataset.examples[30])['src'])\n",
        "print(vars(train_dataset.examples[30])['trg'])"
      ],
      "execution_count": 15,
      "outputs": [
        {
          "output_type": "stream",
          "text": [
            "['ein', 'mann', ',', 'der', 'mit', 'einer', 'tasse', 'kaffee', 'an', 'einem', 'urinal', 'steht', '.']\n",
            "['a', 'man', 'standing', 'at', 'a', 'urinal', 'with', 'a', 'coffee', 'cup', '.']\n"
          ],
          "name": "stdout"
        }
      ]
    },
    {
      "cell_type": "markdown",
      "metadata": {
        "id": "rP5EzoyZvvwX"
      },
      "source": [
        "- 필드(field) 객체의 build_vocab 메서드를 이용해 영어와 독어의 단어 사전을 생성\n",
        " - 최소 2번 이상 등장한 단어만을 선택"
      ]
    },
    {
      "cell_type": "code",
      "metadata": {
        "colab": {
          "base_uri": "https://localhost:8080/"
        },
        "id": "iYuc3QM-wHLA",
        "outputId": "6061f175-c7a8-4a27-f827-ea3185733542"
      },
      "source": [
        "SRC.build_vocab(train_dataset, min_freq=2)\n",
        "TRG.build_vocab(train_dataset, min_freq=2)\n",
        "\n",
        "print(f\"len(SRC): {len(SRC.vocab)}\")\n",
        "print(f\"len(TRG): {len(TRG.vocab)}\")"
      ],
      "execution_count": 16,
      "outputs": [
        {
          "output_type": "stream",
          "text": [
            "len(SRC): 7855\n",
            "len(TRG): 5893\n"
          ],
          "name": "stdout"
        }
      ]
    },
    {
      "cell_type": "code",
      "metadata": {
        "colab": {
          "base_uri": "https://localhost:8080/"
        },
        "id": "YhlXZ5u8wjLG",
        "outputId": "fa2f6d42-2d20-492a-de0c-b9864fd72b61"
      },
      "source": [
        "print(TRG.vocab.stoi[\"abcabc\"]) # 없는단어 : 0\n",
        "print(TRG.vocab.stoi[TRG.pad_token]) # 패딩(padding) : 1\n",
        "print(TRG.vocab.stoi[\"<sos>\"])\n",
        "print(TRG.vocab.stoi[\"<eos>\"])\n",
        "print(TRG.vocab.stoi[\"hello\"])\n",
        "print(TRG.vocab.stoi[\"world\"])"
      ],
      "execution_count": 17,
      "outputs": [
        {
          "output_type": "stream",
          "text": [
            "0\n",
            "1\n",
            "2\n",
            "3\n",
            "4112\n",
            "1752\n"
          ],
          "name": "stdout"
        }
      ]
    },
    {
      "cell_type": "markdown",
      "metadata": {
        "id": "Ca9tdiKVyv0k"
      },
      "source": [
        "- 한 문장에 포함된 단어가 순서대로 나열된 상태로 네트워크에 입력되어야 함\n",
        " - 따라서 하나의 배치에 포함된 문장들이 가지는 단어의 개수가 유사하도록 만들면 좋음\n",
        " - 이를 위해 Bucketlterator 사용\n",
        " - 배치 크기(batch size) : 128"
      ]
    },
    {
      "cell_type": "code",
      "metadata": {
        "id": "JW6aIipYwGNp"
      },
      "source": [
        "import torch\n",
        "\n",
        "device = torch.device('cuda' if torch.cuda.is_available() else 'cpu')\n",
        "\n",
        "BATCH_SIZE = 128\n",
        "\n",
        "# 일반적인 데이터 로더 (data loader)의 iterator와 유사하게 사용가능\n",
        "train_iterator, valid_iterator, test_iterator = BucketIterator.splits(\n",
        "    (train_dataset, valid_dataset, test_dataset),\n",
        "    batch_size=BATCH_SIZE, device = device\n",
        ")"
      ],
      "execution_count": 20,
      "outputs": []
    },
    {
      "cell_type": "code",
      "metadata": {
        "colab": {
          "base_uri": "https://localhost:8080/"
        },
        "id": "dIhwD45M0XgP",
        "outputId": "aeb04df9-2c1a-4eb9-dd2b-b488a8db0cc0"
      },
      "source": [
        "for i, batch in enumerate(train_iterator):\n",
        "  src = batch.src\n",
        "  trg = batch.trg\n",
        "\n",
        "  print(f\"첫 번째 배치 크기:{src.shape}\")\n",
        "\n",
        "  # 현재 배치에 있는 하나의 문장에 포함된 정보 출력\n",
        "  for i in range(src.shape[1]):\n",
        "    print(f\"index {i}: {src[0][i].item()}\") # 여기에서는 [Seq_num, Seq_len]\n",
        "\n",
        "  # 첫 번째 배치만 확인\n",
        "  break"
      ],
      "execution_count": 24,
      "outputs": [
        {
          "output_type": "stream",
          "text": [
            "첫 번째 배치 크기:torch.Size([128, 33])\n",
            "index 0: 2\n",
            "index 1: 5\n",
            "index 2: 32\n",
            "index 3: 472\n",
            "index 4: 5\n",
            "index 5: 312\n",
            "index 6: 20\n",
            "index 7: 123\n",
            "index 8: 4\n",
            "index 9: 3\n",
            "index 10: 1\n",
            "index 11: 1\n",
            "index 12: 1\n",
            "index 13: 1\n",
            "index 14: 1\n",
            "index 15: 1\n",
            "index 16: 1\n",
            "index 17: 1\n",
            "index 18: 1\n",
            "index 19: 1\n",
            "index 20: 1\n",
            "index 21: 1\n",
            "index 22: 1\n",
            "index 23: 1\n",
            "index 24: 1\n",
            "index 25: 1\n",
            "index 26: 1\n",
            "index 27: 1\n",
            "index 28: 1\n",
            "index 29: 1\n",
            "index 30: 1\n",
            "index 31: 1\n",
            "index 32: 1\n"
          ],
          "name": "stdout"
        }
      ]
    },
    {
      "cell_type": "markdown",
      "metadata": {
        "id": "tPTJ0tFJ1fPe"
      },
      "source": [
        "### Multi Head Attention 아키텍쳐\n",
        "- 어텐션(attention)은 세 가지 요소를 입력으로 받음\n",
        " - 쿼리(queries)\n",
        " - 키(keys)\n",
        " - 값(values)\n",
        " - 현재 구현에서는 Query, Key, Value의 차원이 모두 동일\n",
        "\n",
        "- 하이퍼 파라미터 (hyperparameter)\n",
        " - hidden_dim : 하나의 단어에 대한 임베딩 차원\n",
        " - n_heads : head의 개수 = scaled dot-product attention의 개수\n",
        " - dropout_ratio : 드롭아웃 비율"
      ]
    },
    {
      "cell_type": "code",
      "metadata": {
        "id": "_rgQk_MW1XKt"
      },
      "source": [
        "import torch.nn as nn\n",
        "\n",
        "class MultiHeadAttentionLayer(nn.Module):\n",
        "  def __init__(self, hidden_dim, n_heads, dropout_ratio, device):\n",
        "    super().__init__()\n",
        "\n",
        "    assert hidden_dim % n_heads == 0\n",
        "\n",
        "    self.hidden_dim = hidden_dim # 임베딩 차원\n",
        "    self.n_heads = n_heads # head의 개수 : 서로 다른 어텐션(attention) 컨셉의 수\n",
        "    self.head_dim = hidden_dim // n_heads # 각 head에서의 임베딩 차원\n",
        "\n",
        "    self.fc_q = nn.Linear(hidden_dim, hidden_dim) # Query 값에 적용될 FC 레이어\n",
        "    self.fc_k = nn.Linear(hidden_dim, hidden_dim) # Key 값에 적용될 FC 레이어\n",
        "    self.fc_v = nn.Linear(hidden_dim, hidden_dim) # Value 값에 적용될 FC 레이어\n",
        "\n",
        "    self.fc_o = nn.Linear(hidden_dim, hidden_dim)\n",
        "\n",
        "    self.dropout = nn.Dropout(dropout_ratio)\n",
        "\n",
        "    self.scale = torch.sqrt(torch.FloarTensor([self.head_dim])).to(device)\n",
        "\n",
        "def forward(self, query, key, value, mask = None):\n",
        "\n",
        "  batch_size = query.shape[0]\n",
        "\n",
        "  # query : [batch_size, query_len, hidden_dim]\n",
        "  # key : [batch_size, key_len, hidden_dim]\n",
        "  # value : [batch_size, value_len, hidden_dim]\n",
        "\n",
        "  Q = self.fc_q(query)\n",
        "  K = self.fc_k(key)\n",
        "  V = self.fc_v(value)\n",
        "\n",
        "  # hidden_dim -> n_heads X head_dim 형태로 변형\n",
        "  # n_heads(h)개의 서로 다른 어텐션(attention) 컨셉을 학습하도록 유도\n",
        "  Q = Q.view(batch_size, -1, self.n_heads, self.head_dim).permute(0,2,1,3)\n",
        "  K = K.view(batch_size, -1, self.n_heads, self.head_dim).permute(0,2,1,3)\n",
        "  V = V.view(batch_size, -1, self.n_heads, self.head_dim).permute(0,2,1,3)\n",
        "\n",
        "  # Q: [batch_size, n_heads, query_len, head_dim]\n",
        "  # K: [batch_size, n_heads, key_len, head_dim]\n",
        "  # V: [batch_size, n_heads, value_len, head_dim]\n",
        "  \n",
        "  # Attention Energy 계산\n",
        "  energy = torch.matmul(Q, K.permute(0,1,3,2)) / self.scale\n",
        "\n",
        "  # energy : [batch_size, n_heads, query_len, key_len]\n",
        "\n",
        "  # mask를 사용하는 경우\n",
        "  if mask is not None:\n",
        "    # mask 값이 0인 부분을 -1e10으로 채우기\n",
        "    energy = energy.masked_fill(mask==0, -1e10)\n",
        "\n",
        "  # attention 스코어 계산: 각 단어에 대한 확률 값\n",
        "  attention = torch.softmax(energy, dim=-1)\n",
        "\n",
        "  # attention: [batch_size, n_heads, query_len, key_len]\n",
        "\n",
        "  # 여기에서 Scaled Dot-Product Attention을 계산\n",
        "  x = torch.matmul(self.dropout(attention), V)\n",
        "\n",
        "  # x: [batch_size, n_heads, query_len, head_dim]\n",
        "  \n",
        "  x = x.permute(0,2,1,3).contiguous()\n",
        "\n",
        "  # x: [batch_size, query_len, n_heads, head_dim]\n",
        "\n",
        "  x = x.view(batch_size, -1, self.hidden_dim)\n",
        "\n",
        "  # x: [batch_size, query_len, hidden_dim]\n",
        "\n",
        "  x = self.fc_o(x)\n",
        "\n",
        "  # x: [batch_size, query_len, hidden_dim]\n",
        "\n",
        "  return x, attention"
      ],
      "execution_count": 25,
      "outputs": []
    },
    {
      "cell_type": "markdown",
      "metadata": {
        "id": "XZIJ-cLGELwo"
      },
      "source": [
        "### Position-wise Feedforward 아키텍쳐\n",
        "- 입력과 출력의 차원이 동일\n",
        "- 하이퍼 파라미터\n",
        " - hidden_dim : 하나의 단어에 대한 임베딩 차원\n",
        " - pf_dim: Feedforward 레이어에서의 내부 임베딩 차원\n",
        " - dropout_ratio: dropout 비율"
      ]
    },
    {
      "cell_type": "code",
      "metadata": {
        "id": "lPVC-KpG0RDa"
      },
      "source": [
        "class PositionwiseFeedforwardLayer(nn.Module):\n",
        "  def __init__(self, hidden_dim, pf_dim, dropout_ratio):\n",
        "    super().__init__()\n",
        "\n",
        "    self.fc_1 = nn.Linear(hidden_dim, pf_dim)\n",
        "    self.fc_2 = nn.Linear(pf_dim, hidden_dim)\n",
        "\n",
        "    self.dropout = nn.Dropout(dropout_ratio)\n",
        "\n",
        "  def forward(self, x):\n",
        "\n",
        "    # x: [batch_size, seq_len, hidden_dim]\n",
        "\n",
        "    x = self.dropout(torch.relu(self.fc_1(x)))\n",
        "\n",
        "    # x: [batch_size, seq_len, pf_dim]\n",
        "\n",
        "    x = self.fc_2(x)\n",
        "\n",
        "    # x: [batch_size, seq_len, hidden_dim]\n",
        "\n",
        "    return x"
      ],
      "execution_count": 26,
      "outputs": []
    },
    {
      "cell_type": "markdown",
      "metadata": {
        "id": "HIsBYrMPGkti"
      },
      "source": [
        "# 인코더(Encoder) 레이어 아키텍처\n",
        "\n",
        "- 하나의 인코더 레이어에 대해 정의\n",
        " - 입력과 출력의 차원이 동일\n",
        " - 이러한 특징을 이용해 트랜스포머의 인코더는 인코더 레이어를 여러 번 중첩해 사용\n",
        "\n",
        "- 하이퍼 파라미터\n",
        " - hidden_dim: 하나의 단어에 대한 임베딩 차원\n",
        " - n_heads: head의 개수 = scaled dot-product attention의 개수\n",
        " - pf_dim: Feedforward 레이어에서의 내부 임베딩 차원\n",
        " - dropout_ratio: dropout 비율\n",
        "- <pad> 토큰에 대해 mask 값을 0으로 설정"
      ]
    },
    {
      "cell_type": "code",
      "metadata": {
        "id": "1IE-XtiFu0zm"
      },
      "source": [
        "class EncoderLayer(nn.Module):\n",
        "  def __init__(self, hidden_dim, n_heads, pf_dim, dropout_ratio, device):\n",
        "    super().__init__()\n",
        "\n",
        "    self.self_attn_layer_norm = nn.LayerNorm(hidden_dim)\n",
        "    self.ff_layer_norm = nn.LayerNorm(hidden_dim)\n",
        "    self.self_attention = MultiHeadAttentionLayer(hidden_dim, n_heads, dropout_ratio, device)\n",
        "    self.positionwise_feedforward = PositionwiseFeedforwardLayer(hidden_dim, pf_dim, dropout_ratio)\n",
        "    self.dropout = nn.Dropout(dropout_ratio)\n",
        "\n",
        "  # 하나의 임베딩이 복제되어 Query, Key, Value로 입력되는 방식\n",
        "  def forward(self, src, src_mask):\n",
        "\n",
        "    # src: [batch_size, src_len, hidden_dim]\n",
        "    # src_mask: [batch_size, src_len]\n",
        "\n",
        "    # self attention\n",
        "    # 필요한 경우 mask 행렬을 이용해 attention할 단어를 조절 가능\n",
        "    _src, _ = self.self_attention(src, src, src, src_mask)\n",
        "\n",
        "    # dropout, residual connection and layer norm\n",
        "    src = self.self_attn_layer_norm(src + self.dropout(_src))\n",
        "\n",
        "    # src : [batch_size, src_len, hidden_dim]\n",
        "\n",
        "    # position-wise feedforward\n",
        "    _src = self.positionwise_feedforward(src)\n",
        "\n",
        "    # dropout, residual and layer norm\n",
        "    src = self.ff_layer_norm(src + self.dropout(_src))\n",
        "\n",
        "    # src: [batch_size, src_len, hidden_dim]\n",
        "\n",
        "    return src"
      ],
      "execution_count": 28,
      "outputs": []
    },
    {
      "cell_type": "markdown",
      "metadata": {
        "id": "vmcsOWUVOyQF"
      },
      "source": [
        "### Encoder 아키텍처\n",
        "- 전체 인코더 아키텍처를 정의\n",
        "- 하이퍼 파라미터\n",
        " - input_dim: 하나의 단어에 대한 원핫인코딩 차원\n",
        " - hidden_dim: 하나의 단어에 대한 임베딩 차원\n",
        " - n_layers: 내부적으로 사용할 인코더 레이어의 개수\n",
        " - n_heads: head의 개수 = scaled dot-product attention 개수\n",
        " - pf_dim: Feedforward 레이어에서의 내부 임베딩 차원\n",
        " - dropout_ratio: dropout 비율\n",
        " - max_length: 문장 내 최대 단어 개수\n",
        "\n",
        "- 원본 논문과는 다르게 위치 임베딩을 학습하는 형태로 구현\n",
        " - BERT와 같은 모던 트랜스포머 아키텍처에서 사용되는 방식\n",
        "\n",
        "- <pad> 토큰에 대해 mask 값을 0으로 설정"
      ]
    },
    {
      "cell_type": "code",
      "metadata": {
        "id": "wNdX2j6OOthv"
      },
      "source": [
        "class Encoder(nn.Module):\n",
        "  def __init__(self, input_dim, hidden_dim, n_layers, n_heads, pf_dim, dropout_ratio, device, max_length=100):\n",
        "    super().__init__()\n",
        "\n",
        "    self.device = device\n",
        "\n",
        "    self.tok_embedding = nn.Embedding(input_dim, hidden_dim)\n",
        "    self.pos_embedding = nn.Embedding(max_length, hidden_dim)\n",
        "\n",
        "    self.layers = nn.ModuleList([EncoderLayer(hidden_dim, n_heads, pf_dim, dropout_ratio, device) for _ in range(n_layers)])\n",
        "\n",
        "    self.dropout = nn.Dropout(dropout_ratio)\n",
        "\n",
        "    self.scale = torch.sqrt(torch.FloatTensor([hidden_dim])).to(device)\n",
        "\n",
        "  def forward(self, src, src_mask):\n",
        "\n",
        "    # src: [batch_size, src_len]\n",
        "    # src_mask: [batch_size, src_len]\n",
        "\n",
        "    batch_size = src.shape[0]\n",
        "    src_len = src.shape[1]\n",
        "\n",
        "    pos = torch.arange(0, src_len).unsqueeze(0).repeat(batch_size, 1).to(self.device)\n",
        "\n",
        "    # pos: [batch_size, src_len]\n",
        "\n",
        "    # 소스 문장의 임베딩과 위치 임베딩을 더한 것을 사용\n",
        "    src = self.dropout((self.tok_embedding(src) * self.scale) + self.pos_embedding(pos))\n",
        "\n",
        "    # src: [batch_size, src_len, hidden_dim]\n",
        "\n",
        "    # 모든 인코더 레이어를 차례대로 거치면서 순전파(forward) 수행\n",
        "    for layer in self.layers:\n",
        "      src = layer(src, src_mask)\n",
        "\n",
        "    # src: [batch_size, src_len, hidden_dim]\n",
        "\n",
        "    return src # 마지막 레이어의 출력을 반환"
      ],
      "execution_count": 30,
      "outputs": []
    },
    {
      "cell_type": "markdown",
      "metadata": {
        "id": "fbdqy8LfVM1B"
      },
      "source": [
        ""
      ]
    },
    {
      "cell_type": "code",
      "metadata": {
        "id": "42ZzyfEyUs5c"
      },
      "source": [
        ""
      ],
      "execution_count": null,
      "outputs": []
    },
    {
      "cell_type": "code",
      "metadata": {
        "id": "7j8CvUB_t1uE"
      },
      "source": [
        ""
      ],
      "execution_count": 9,
      "outputs": []
    },
    {
      "cell_type": "code",
      "metadata": {
        "id": "_1CXP0x_t1w0"
      },
      "source": [
        ""
      ],
      "execution_count": 9,
      "outputs": []
    },
    {
      "cell_type": "code",
      "metadata": {
        "id": "9GS4halKt1zH"
      },
      "source": [
        ""
      ],
      "execution_count": null,
      "outputs": []
    },
    {
      "cell_type": "code",
      "metadata": {
        "id": "dnt6fwqJtYph"
      },
      "source": [
        ""
      ],
      "execution_count": null,
      "outputs": []
    },
    {
      "cell_type": "code",
      "metadata": {
        "id": "SHQq16Q1sdQk"
      },
      "source": [
        ""
      ],
      "execution_count": null,
      "outputs": []
    },
    {
      "cell_type": "code",
      "metadata": {
        "id": "Y8mHRjHYn2DM"
      },
      "source": [
        ""
      ],
      "execution_count": null,
      "outputs": []
    }
  ]
}