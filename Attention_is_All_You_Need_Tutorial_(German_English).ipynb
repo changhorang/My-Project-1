{
  "nbformat": 4,
  "nbformat_minor": 0,
  "metadata": {
    "colab": {
      "name": "Attention is All You Need Tutorial (German-English)",
      "provenance": [],
      "collapsed_sections": [
        "tPTJ0tFJ1fPe",
        "XZIJ-cLGELwo",
        "vmcsOWUVOyQF"
      ],
      "machine_shape": "hm",
      "authorship_tag": "ABX9TyN8GgGYaAD60ZJJpDfqHK6h",
      "include_colab_link": true
    },
    "kernelspec": {
      "name": "python3",
      "display_name": "Python 3"
    },
    "language_info": {
      "name": "python"
    },
    "accelerator": "GPU"
  },
  "cells": [
    {
      "cell_type": "markdown",
      "metadata": {
        "id": "view-in-github",
        "colab_type": "text"
      },
      "source": [
        "<a href=\"https://colab.research.google.com/github/changhorang/My-Project-1/blob/master/Attention_is_All_You_Need_Tutorial_(German_English).ipynb\" target=\"_parent\"><img src=\"https://colab.research.google.com/assets/colab-badge.svg\" alt=\"Open In Colab\"/></a>"
      ]
    },
    {
      "cell_type": "markdown",
      "metadata": {
        "id": "irzADe3QmGi4"
      },
      "source": [
        "**Attention is All You Need Tutorial (NIPS 2017) 실습**\n",
        "- Transformer 논문의 내용 기반"
      ]
    },
    {
      "cell_type": "markdown",
      "metadata": {
        "id": "5C1KePqflm0S"
      },
      "source": [
        "BLEU Score 계산을 위한 라이브러리 업데이트\n",
        "- [Restart Runtime] 버튼을 눌러 런타임을 재시"
      ]
    },
    {
      "cell_type": "code",
      "metadata": {
        "colab": {
          "base_uri": "https://localhost:8080/"
        },
        "id": "xC4fAFl6m2WX",
        "outputId": "9166c9bf-b2df-4881-f5e0-090880c0b896"
      },
      "source": [
        "!pip install torchtext==0.6.0"
      ],
      "execution_count": 36,
      "outputs": [
        {
          "output_type": "stream",
          "text": [
            "Requirement already satisfied: torchtext==0.6.0 in /usr/local/lib/python3.7/dist-packages (0.6.0)\n",
            "Requirement already satisfied: numpy in /usr/local/lib/python3.7/dist-packages (from torchtext==0.6.0) (1.19.5)\n",
            "Requirement already satisfied: torch in /usr/local/lib/python3.7/dist-packages (from torchtext==0.6.0) (1.9.0+cu102)\n",
            "Requirement already satisfied: tqdm in /usr/local/lib/python3.7/dist-packages (from torchtext==0.6.0) (4.41.1)\n",
            "Requirement already satisfied: requests in /usr/local/lib/python3.7/dist-packages (from torchtext==0.6.0) (2.23.0)\n",
            "Requirement already satisfied: six in /usr/local/lib/python3.7/dist-packages (from torchtext==0.6.0) (1.15.0)\n",
            "Requirement already satisfied: sentencepiece in /usr/local/lib/python3.7/dist-packages (from torchtext==0.6.0) (0.1.96)\n",
            "Requirement already satisfied: typing-extensions in /usr/local/lib/python3.7/dist-packages (from torch->torchtext==0.6.0) (3.7.4.3)\n",
            "Requirement already satisfied: idna<3,>=2.5 in /usr/local/lib/python3.7/dist-packages (from requests->torchtext==0.6.0) (2.10)\n",
            "Requirement already satisfied: urllib3!=1.25.0,!=1.25.1,<1.26,>=1.21.1 in /usr/local/lib/python3.7/dist-packages (from requests->torchtext==0.6.0) (1.24.3)\n",
            "Requirement already satisfied: certifi>=2017.4.17 in /usr/local/lib/python3.7/dist-packages (from requests->torchtext==0.6.0) (2021.5.30)\n",
            "Requirement already satisfied: chardet<4,>=3.0.2 in /usr/local/lib/python3.7/dist-packages (from requests->torchtext==0.6.0) (3.0.4)\n"
          ],
          "name": "stdout"
        }
      ]
    },
    {
      "cell_type": "markdown",
      "metadata": {
        "id": "-KeBCs75nOc6"
      },
      "source": [
        "**데이터 전처리 (Preprocessing)**\n",
        "- spacy 라이브러리 : 문장의 토큰화(tokenization), 태깅 (tagging) 드으이 전처리 기능을 위한 라이브러리\n",
        " - 영어(English)와 독일(Deutsch) 전처리 모듈 설"
      ]
    },
    {
      "cell_type": "code",
      "metadata": {
        "id": "hIRRtOkJn6ZU"
      },
      "source": [
        "%%capture\n",
        "!python -m spacy download en\n",
        "!python -m spacy download de"
      ],
      "execution_count": 37,
      "outputs": []
    },
    {
      "cell_type": "code",
      "metadata": {
        "id": "m7Hg0N39oGHs"
      },
      "source": [
        "import spacy\n",
        "\n",
        "spacy_en = spacy.load('en') # 영어 토큰화\n",
        "spacy_de = spacy.load('de') # 독일어 토큰화"
      ],
      "execution_count": 38,
      "outputs": []
    },
    {
      "cell_type": "code",
      "metadata": {
        "colab": {
          "base_uri": "https://localhost:8080/"
        },
        "id": "lmqibyRhoa88",
        "outputId": "2650a43a-df9f-44da-f5ec-e07ab81b2e0d"
      },
      "source": [
        "# 간단히 토큰화 기능 사용\n",
        "tokenized = spacy_en.tokenizer(\"I am a graduate student.\")\n",
        "\n",
        "for i, token in enumerate(tokenized):\n",
        "  print(f\"인덱스 {i}: {token.text}\")"
      ],
      "execution_count": 39,
      "outputs": [
        {
          "output_type": "stream",
          "text": [
            "인덱스 0: I\n",
            "인덱스 1: am\n",
            "인덱스 2: a\n",
            "인덱스 3: graduate\n",
            "인덱스 4: student\n",
            "인덱스 5: .\n"
          ],
          "name": "stdout"
        }
      ]
    },
    {
      "cell_type": "markdown",
      "metadata": {
        "id": "QS5vdFg6rRcI"
      },
      "source": [
        "- 영어 및 독일어 토큰화 함수 정의"
      ]
    },
    {
      "cell_type": "code",
      "metadata": {
        "id": "aQy8gU45rYFd"
      },
      "source": [
        "# 독일어 문장을 토큰화 하는 함수 (순서를 뒤집지 않음)\n",
        "def tokenize_de(text):\n",
        "  return [token.text for token in spacy_de.tokenizer(text)]\n",
        "\n",
        "# 영어 문장을 토큰화 하는 함수\n",
        "def tokenize_en(text):\n",
        "  return [token.text for token in spacy_en.tokenizer(text)]"
      ],
      "execution_count": 40,
      "outputs": []
    },
    {
      "cell_type": "markdown",
      "metadata": {
        "id": "mpanbr3NsFVU"
      },
      "source": [
        "- 필드(field) 라이브러리를 이용해 데이터셋에 대한 구체적인 전처리 내용을 명시\n",
        "- Seq2Seq 모델과는 다르게 batch_first 속성의 값을 True로 설정\n",
        "- 번역 목표\n",
        " - 소스(SRC) : 독일어\n",
        " - 목표(TRF) : 영어"
      ]
    },
    {
      "cell_type": "code",
      "metadata": {
        "id": "vrd4s2m7sfpq"
      },
      "source": [
        "from torchtext.data import Field, BucketIterator\n",
        "\n",
        "SRC = Field(tokenize=tokenize_de, init_token=\"<sos>\", eos_token=\"<eos>\", lower=True, batch_first=True)\n",
        "TRG = Field(tokenize=tokenize_en, init_token=\"<sos>\", eos_token=\"<eos>\", lower=True, batch_first=True)"
      ],
      "execution_count": 41,
      "outputs": []
    },
    {
      "cell_type": "markdown",
      "metadata": {
        "id": "UPzKiwzytqsM"
      },
      "source": [
        "- 대표적인 영어-독어 번역 데이터셋인 Multi30k 불러오기"
      ]
    },
    {
      "cell_type": "code",
      "metadata": {
        "id": "jXoqNVYYty5X"
      },
      "source": [
        "from torchtext.datasets import Multi30k\n",
        "\n",
        "train_dataset, valid_dataset, test_dataset = Multi30k.splits(exts=(\".de\", \".en\"), fields=(SRC, TRG))"
      ],
      "execution_count": 42,
      "outputs": []
    },
    {
      "cell_type": "code",
      "metadata": {
        "colab": {
          "base_uri": "https://localhost:8080/"
        },
        "id": "Z76vjAhCuQhU",
        "outputId": "a0c252bf-87c3-49e4-c3ad-0eb7955a5994"
      },
      "source": [
        "print(f\"학습 데이터셋(training dataset) 크기 : {len(train_dataset.examples)}개\")\n",
        "print(f\"평가 데이터셋(validation dataset) 크기 : {len(valid_dataset.examples)}개\")\n",
        "print(f\"테스트 데이터셋(test dataset) 크기 : {len(test_dataset.examples)}개\")"
      ],
      "execution_count": 43,
      "outputs": [
        {
          "output_type": "stream",
          "text": [
            "학습 데이터셋(training dataset) 크기 : 29000개\n",
            "평가 데이터셋(validation dataset) 크기 : 1014개\n",
            "테스트 데이터셋(test dataset) 크기 : 1000개\n"
          ],
          "name": "stdout"
        }
      ]
    },
    {
      "cell_type": "code",
      "metadata": {
        "colab": {
          "base_uri": "https://localhost:8080/"
        },
        "id": "p3b-v5AqvGXq",
        "outputId": "44b7c803-7ef3-4d8d-9e3c-5b48eb4b9056"
      },
      "source": [
        "# 학습 데이터중 하나를 선택해 출력\n",
        "print(vars(train_dataset.examples[30])['src'])\n",
        "print(vars(train_dataset.examples[30])['trg'])"
      ],
      "execution_count": 44,
      "outputs": [
        {
          "output_type": "stream",
          "text": [
            "['ein', 'mann', ',', 'der', 'mit', 'einer', 'tasse', 'kaffee', 'an', 'einem', 'urinal', 'steht', '.']\n",
            "['a', 'man', 'standing', 'at', 'a', 'urinal', 'with', 'a', 'coffee', 'cup', '.']\n"
          ],
          "name": "stdout"
        }
      ]
    },
    {
      "cell_type": "markdown",
      "metadata": {
        "id": "rP5EzoyZvvwX"
      },
      "source": [
        "- 필드(field) 객체의 build_vocab 메서드를 이용해 영어와 독어의 단어 사전을 생성\n",
        " - 최소 2번 이상 등장한 단어만을 선택"
      ]
    },
    {
      "cell_type": "code",
      "metadata": {
        "colab": {
          "base_uri": "https://localhost:8080/"
        },
        "id": "iYuc3QM-wHLA",
        "outputId": "aa2040c2-311d-4324-b2d8-b2fbc51b8182"
      },
      "source": [
        "SRC.build_vocab(train_dataset, min_freq=2)\n",
        "TRG.build_vocab(train_dataset, min_freq=2)\n",
        "\n",
        "print(f\"len(SRC): {len(SRC.vocab)}\")\n",
        "print(f\"len(TRG): {len(TRG.vocab)}\")"
      ],
      "execution_count": 45,
      "outputs": [
        {
          "output_type": "stream",
          "text": [
            "len(SRC): 7855\n",
            "len(TRG): 5893\n"
          ],
          "name": "stdout"
        }
      ]
    },
    {
      "cell_type": "code",
      "metadata": {
        "colab": {
          "base_uri": "https://localhost:8080/"
        },
        "id": "YhlXZ5u8wjLG",
        "outputId": "c4b21bb7-f2c1-4661-b198-dfeed3ad24af"
      },
      "source": [
        "print(TRG.vocab.stoi[\"abcabc\"]) # 없는단어 : 0 / stoi: string to i\n",
        "print(TRG.vocab.stoi[TRG.pad_token]) # 패딩(padding) : 1\n",
        "print(TRG.vocab.stoi[\"<sos>\"])\n",
        "print(TRG.vocab.stoi[\"<eos>\"])\n",
        "print(TRG.vocab.stoi[\"hello\"])\n",
        "print(TRG.vocab.stoi[\"world\"])"
      ],
      "execution_count": 46,
      "outputs": [
        {
          "output_type": "stream",
          "text": [
            "0\n",
            "1\n",
            "2\n",
            "3\n",
            "4112\n",
            "1752\n"
          ],
          "name": "stdout"
        }
      ]
    },
    {
      "cell_type": "markdown",
      "metadata": {
        "id": "Ca9tdiKVyv0k"
      },
      "source": [
        "- 한 문장에 포함된 단어가 순서대로 나열된 상태로 네트워크에 입력되어야 함\n",
        " - 따라서 하나의 배치에 포함된 문장들이 가지는 단어의 개수가 유사하도록 만들면 좋음\n",
        " - 이를 위해 Bucketlterator 사용\n",
        " - 배치 크기(batch size) : 128"
      ]
    },
    {
      "cell_type": "code",
      "metadata": {
        "id": "JW6aIipYwGNp"
      },
      "source": [
        "import torch\n",
        "\n",
        "device = torch.device('cuda' if torch.cuda.is_available() else 'cpu')\n",
        "\n",
        "BATCH_SIZE = 128\n",
        "\n",
        "# 일반적인 데이터 로더 (data loader)의 iterator와 유사하게 사용가능\n",
        "train_iterator, valid_iterator, test_iterator = BucketIterator.splits(\n",
        "    (train_dataset, valid_dataset, test_dataset),\n",
        "    batch_size=BATCH_SIZE, device = device\n",
        ")"
      ],
      "execution_count": 47,
      "outputs": []
    },
    {
      "cell_type": "code",
      "metadata": {
        "colab": {
          "base_uri": "https://localhost:8080/"
        },
        "id": "dIhwD45M0XgP",
        "outputId": "de0cb3f2-2841-4a36-a230-9502d7b8bfd2"
      },
      "source": [
        "for i, batch in enumerate(train_iterator):\n",
        "  src = batch.src\n",
        "  trg = batch.trg\n",
        "\n",
        "  print(f\"첫 번째 배치 크기:{src.shape}\")\n",
        "\n",
        "  # 현재 배치에 있는 하나의 문장에 포함된 정보 출력\n",
        "  for i in range(src.shape[1]):\n",
        "    print(f\"index {i}: {src[0][i].item()}\") # 여기에서는 [Seq_num, Seq_len]\n",
        "\n",
        "  # 첫 번째 배치만 확인 / index가 1인 것은 padding임을 알 수 있음 (index=3(eos) 이후)\n",
        "  break"
      ],
      "execution_count": 48,
      "outputs": [
        {
          "output_type": "stream",
          "text": [
            "첫 번째 배치 크기:torch.Size([128, 26])\n",
            "index 0: 2\n",
            "index 1: 5\n",
            "index 2: 13\n",
            "index 3: 7\n",
            "index 4: 14\n",
            "index 5: 89\n",
            "index 6: 297\n",
            "index 7: 55\n",
            "index 8: 91\n",
            "index 9: 64\n",
            "index 10: 8\n",
            "index 11: 484\n",
            "index 12: 140\n",
            "index 13: 4\n",
            "index 14: 3\n",
            "index 15: 1\n",
            "index 16: 1\n",
            "index 17: 1\n",
            "index 18: 1\n",
            "index 19: 1\n",
            "index 20: 1\n",
            "index 21: 1\n",
            "index 22: 1\n",
            "index 23: 1\n",
            "index 24: 1\n",
            "index 25: 1\n"
          ],
          "name": "stdout"
        }
      ]
    },
    {
      "cell_type": "markdown",
      "metadata": {
        "id": "tPTJ0tFJ1fPe"
      },
      "source": [
        "### Multi Head Attention 아키텍쳐\n",
        "- 어텐션(attention)은 세 가지 요소를 입력으로 받음\n",
        " - 쿼리(queries)\n",
        " - 키(keys)\n",
        " - 값(values)\n",
        " - 현재 구현에서는 Query, Key, Value의 차원이 모두 동일\n",
        "\n",
        "- 하이퍼 파라미터 (hyperparameter)\n",
        " - hidden_dim : 하나의 단어에 대한 임베딩 차원\n",
        " - n_heads : head의 개수 = scaled dot-product attention의 개수\n",
        " - dropout_ratio : 드롭아웃 비율"
      ]
    },
    {
      "cell_type": "code",
      "metadata": {
        "id": "_rgQk_MW1XKt"
      },
      "source": [
        "import torch.nn as nn\n",
        "\n",
        "class MultiHeadAttentionLayer(nn.Module):\n",
        "  def __init__(self, hidden_dim, n_heads, dropout_ratio, device):\n",
        "    super().__init__()\n",
        "\n",
        "    assert hidden_dim % n_heads == 0\n",
        "\n",
        "    self.hidden_dim = hidden_dim # 임베딩 차원\n",
        "    self.n_heads = n_heads # head의 개수 : 서로 다른 어텐션(attention) 컨셉의 수\n",
        "    self.head_dim = hidden_dim // n_heads # 각 head에서의 임베딩 차원\n",
        "\n",
        "    self.fc_q = nn.Linear(hidden_dim, hidden_dim) # Query 값에 적용될 FC 레이어\n",
        "    self.fc_k = nn.Linear(hidden_dim, hidden_dim) # Key 값에 적용될 FC 레이어\n",
        "    self.fc_v = nn.Linear(hidden_dim, hidden_dim) # Value 값에 적용될 FC 레이어\n",
        "\n",
        "    self.fc_o = nn.Linear(hidden_dim, hidden_dim)\n",
        "\n",
        "    self.dropout = nn.Dropout(dropout_ratio)\n",
        "\n",
        "    self.scale = torch.sqrt(torch.FloatTensor([self.head_dim])).to(device)\n",
        "\n",
        "def forward(self, query, key, value, mask = None):\n",
        "\n",
        "  batch_size = query.shape[0]\n",
        "\n",
        "  # query : [batch_size, query_len, hidden_dim]\n",
        "  # key : [batch_size, key_len, hidden_dim]\n",
        "  # value : [batch_size, value_len, hidden_dim]\n",
        "\n",
        "  Q = self.fc_q(query)\n",
        "  K = self.fc_k(key)\n",
        "  V = self.fc_v(value)\n",
        "\n",
        "  # hidden_dim -> n_heads X head_dim 형태로 변형\n",
        "  # n_heads(h)개의 서로 다른 어텐션(attention) 컨셉을 학습하도록 유도\n",
        "  Q = Q.view(batch_size, -1, self.n_heads, self.head_dim).permute(0,2,1,3)\n",
        "  K = K.view(batch_size, -1, self.n_heads, self.head_dim).permute(0,2,1,3)\n",
        "  V = V.view(batch_size, -1, self.n_heads, self.head_dim).permute(0,2,1,3)\n",
        "\n",
        "  # Q: [batch_size, n_heads, query_len, head_dim]\n",
        "  # K: [batch_size, n_heads, key_len, head_dim]\n",
        "  # V: [batch_size, n_heads, value_len, head_dim]\n",
        "  \n",
        "  # Attention Energy 계산\n",
        "  energy = torch.matmul(Q, K.permute(0,1,3,2)) / self.scale\n",
        "\n",
        "  # energy : [batch_size, n_heads, query_len, key_len]\n",
        "\n",
        "  # mask를 사용하는 경우\n",
        "  if mask is not None:\n",
        "    # mask 값이 0인 부분을 -1e10으로 채우기\n",
        "    energy = energy.masked_fill(mask==0, -1e10)\n",
        "\n",
        "  # attention 스코어 계산: 각 단어에 대한 확률 값\n",
        "  attention = torch.softmax(energy, dim=-1)\n",
        "\n",
        "  # attention: [batch_size, n_heads, query_len, key_len]\n",
        "\n",
        "  # 여기에서 Scaled Dot-Product Attention을 계산\n",
        "  x = torch.matmul(self.dropout(attention), V)\n",
        "\n",
        "  # x: [batch_size, n_heads, query_len, head_dim]\n",
        "  \n",
        "  x = x.permute(0,2,1,3).contiguous()\n",
        "\n",
        "  # x: [batch_size, query_len, n_heads, head_dim]\n",
        "\n",
        "  x = x.view(batch_size, -1, self.hidden_dim)\n",
        "\n",
        "  # x: [batch_size, query_len, hidden_dim]\n",
        "\n",
        "  x = self.fc_o(x)\n",
        "\n",
        "  # x: [batch_size, query_len, hidden_dim]\n",
        "\n",
        "  return x, attention"
      ],
      "execution_count": 49,
      "outputs": []
    },
    {
      "cell_type": "markdown",
      "metadata": {
        "id": "XZIJ-cLGELwo"
      },
      "source": [
        "### Position-wise Feedforward 아키텍쳐\n",
        "- 입력과 출력의 차원이 동일\n",
        "- 하이퍼 파라미터\n",
        " - hidden_dim : 하나의 단어에 대한 임베딩 차원\n",
        " - pf_dim: Feedforward 레이어에서의 내부 임베딩 차원\n",
        " - dropout_ratio: dropout 비율"
      ]
    },
    {
      "cell_type": "code",
      "metadata": {
        "id": "lPVC-KpG0RDa"
      },
      "source": [
        "class PositionwiseFeedforwardLayer(nn.Module):\n",
        "  def __init__(self, hidden_dim, pf_dim, dropout_ratio):\n",
        "    super().__init__()\n",
        "\n",
        "    self.fc_1 = nn.Linear(hidden_dim, pf_dim)\n",
        "    self.fc_2 = nn.Linear(pf_dim, hidden_dim)\n",
        "\n",
        "    self.dropout = nn.Dropout(dropout_ratio)\n",
        "\n",
        "  def forward(self, x):\n",
        "\n",
        "    # x: [batch_size, seq_len, hidden_dim]\n",
        "\n",
        "    x = self.dropout(torch.relu(self.fc_1(x)))\n",
        "\n",
        "    # x: [batch_size, seq_len, pf_dim]\n",
        "\n",
        "    x = self.fc_2(x)\n",
        "\n",
        "    # x: [batch_size, seq_len, hidden_dim]\n",
        "\n",
        "    return x"
      ],
      "execution_count": 50,
      "outputs": []
    },
    {
      "cell_type": "markdown",
      "metadata": {
        "id": "HIsBYrMPGkti"
      },
      "source": [
        "# 인코더(Encoder) 레이어 아키텍처\n",
        "\n",
        "- 하나의 인코더 레이어에 대해 정의\n",
        " - 입력과 출력의 차원이 동일\n",
        " - 이러한 특징을 이용해 트랜스포머의 인코더는 인코더 레이어를 여러 번 중첩해 사용\n",
        "\n",
        "- 하이퍼 파라미터\n",
        " - hidden_dim: 하나의 단어에 대한 임베딩 차원\n",
        " - n_heads: head의 개수 = scaled dot-product attention의 개수\n",
        " - pf_dim: Feedforward 레이어에서의 내부 임베딩 차원\n",
        " - dropout_ratio: dropout 비율\n",
        "- <pad> 토큰에 대해 mask 값을 0으로 설정"
      ]
    },
    {
      "cell_type": "code",
      "metadata": {
        "id": "1IE-XtiFu0zm"
      },
      "source": [
        "class EncoderLayer(nn.Module):\n",
        "  def __init__(self, hidden_dim, n_heads, pf_dim, dropout_ratio, device):\n",
        "    super().__init__()\n",
        "\n",
        "    self.self_attn_layer_norm = nn.LayerNorm(hidden_dim)\n",
        "    self.ff_layer_norm = nn.LayerNorm(hidden_dim)\n",
        "    self.self_attention = MultiHeadAttentionLayer(hidden_dim, n_heads, dropout_ratio, device)\n",
        "    self.positionwise_feedforward = PositionwiseFeedforwardLayer(hidden_dim, pf_dim, dropout_ratio)\n",
        "    self.dropout = nn.Dropout(dropout_ratio)\n",
        "\n",
        "  # 하나의 임베딩이 복제되어 Query, Key, Value로 입력되는 방식\n",
        "  def forward(self, src, src_mask):\n",
        "\n",
        "    # src: [batch_size, src_len, hidden_dim]\n",
        "    # src_mask: [batch_size, src_len]\n",
        "\n",
        "    # self attention\n",
        "    # 필요한 경우 mask 행렬을 이용해 attention할 단어를 조절 가능\n",
        "    _src, _ = self.self_attention(src, src, src, src_mask)\n",
        "\n",
        "    # dropout, residual connection and layer norm\n",
        "    src = self.self_attn_layer_norm(src + self.dropout(_src))\n",
        "\n",
        "    # src : [batch_size, src_len, hidden_dim]\n",
        "\n",
        "    # position-wise feedforward\n",
        "    _src = self.positionwise_feedforward(src)\n",
        "\n",
        "    # dropout, residual and layer norm\n",
        "    src = self.ff_layer_norm(src + self.dropout(_src))\n",
        "\n",
        "    # src: [batch_size, src_len, hidden_dim]\n",
        "\n",
        "    return src"
      ],
      "execution_count": 51,
      "outputs": []
    },
    {
      "cell_type": "markdown",
      "metadata": {
        "id": "vmcsOWUVOyQF"
      },
      "source": [
        "### Encoder 아키텍처\n",
        "- 전체 인코더 아키텍처를 정의\n",
        "- 하이퍼 파라미터\n",
        " - input_dim: 하나의 단어에 대한 원핫인코딩 차원\n",
        " - hidden_dim: 하나의 단어에 대한 임베딩 차원\n",
        " - n_layers: 내부적으로 사용할 인코더 레이어의 개수\n",
        " - n_heads: head의 개수 = scaled dot-product attention 개수\n",
        " - pf_dim: Feedforward 레이어에서의 내부 임베딩 차원\n",
        " - dropout_ratio: dropout 비율\n",
        " - max_length: 문장 내 최대 단어 개수\n",
        "\n",
        "- 원본 논문과는 다르게 위치 임베딩을 학습하는 형태로 구현\n",
        " - BERT와 같은 모던 트랜스포머 아키텍처에서 사용되는 방식\n",
        "\n",
        "- <pad> 토큰에 대해 mask 값을 0으로 설정 (짧은 문장에 대해서는 뒤의 패딩값이 계산이 안되게 하기 위해서 0이라는 마스크를 씌워줌)"
      ]
    },
    {
      "cell_type": "code",
      "metadata": {
        "id": "wNdX2j6OOthv"
      },
      "source": [
        "class Encoder(nn.Module):\n",
        "  def __init__(self, input_dim, hidden_dim, n_layers, n_heads, pf_dim, dropout_ratio, device, max_length=100):\n",
        "    super().__init__()\n",
        "\n",
        "    self.device = device\n",
        "\n",
        "    self.tok_embedding = nn.Embedding(input_dim, hidden_dim)\n",
        "    self.pos_embedding = nn.Embedding(max_length, hidden_dim)\n",
        "\n",
        "    self.layers = nn.ModuleList([EncoderLayer(hidden_dim, n_heads, pf_dim, dropout_ratio, device) for _ in range(n_layers)])\n",
        "\n",
        "    self.dropout = nn.Dropout(dropout_ratio)\n",
        "\n",
        "    self.scale = torch.sqrt(torch.FloatTensor([hidden_dim])).to(device)\n",
        "\n",
        "  def forward(self, src, src_mask):\n",
        "\n",
        "    # src: [batch_size, src_len]\n",
        "    # src_mask: [batch_size, src_len]\n",
        "\n",
        "    batch_size = src.shape[0]\n",
        "    src_len = src.shape[1]\n",
        "\n",
        "    pos = torch.arange(0, src_len).unsqueeze(0).repeat(batch_size, 1).to(self.device)\n",
        "\n",
        "    # pos: [batch_size, src_len]\n",
        "\n",
        "    # 소스 문장의 임베딩과 위치 임베딩을 더한 것을 사용\n",
        "    src = self.dropout((self.tok_embedding(src) * self.scale) + self.pos_embedding(pos))\n",
        "\n",
        "    # src: [batch_size, src_len, hidden_dim]\n",
        "\n",
        "    # 모든 인코더 레이어를 차례대로 거치면서 순전파(forward) 수행\n",
        "    for layer in self.layers:\n",
        "      src = layer(src, src_mask)\n",
        "\n",
        "    # src: [batch_size, src_len, hidden_dim]\n",
        "\n",
        "    return src # 마지막 레이어의 출력을 반환"
      ],
      "execution_count": 52,
      "outputs": []
    },
    {
      "cell_type": "markdown",
      "metadata": {
        "id": "fbdqy8LfVM1B"
      },
      "source": [
        "### Decoder Layer 아키텍처\n",
        "- 하나의 decoder layer에 대해 정의\n",
        " - 입력과 출력의 차원이 동일\n",
        " - 이러한 특징을 이용해 트랜스포머의 디코더는 디코더 레이어를 여러 번 중첩해 사용\n",
        " - 디코더 레이어에서는 두 개의 Multi-Head Attention 레이어가 사용됨\n",
        "\n",
        "- 하이퍼파라미터\n",
        " - hidden_dim: 하나의 단어에 대한 임베딩 차원\n",
        " - n_heads: head의 개수 = scaled dot-product attention의 개수\n",
        " - pf-dim: Feedforward 레이어에서의 내부 임베딩 차원\n",
        " - dropout_ratio: dropout 비율\n",
        "\n",
        "- 소스 문장의 <pad> 토큰에 대해 마스크 값을 0으로 설정\n",
        "- 타겟 문장에서 각 단어는 다음 단어가 무엇인지 알 수 없도록(이전 단어만 보도록) 만들기 위해 마스크를 사용"
      ]
    },
    {
      "cell_type": "code",
      "metadata": {
        "id": "42ZzyfEyUs5c"
      },
      "source": [
        "class DecoderLayer(nn.Module):\n",
        "  def __init__(self, hidden_dim, n_heads, pf_dim, dropout_ratio, device):\n",
        "    super().__init__()\n",
        "\n",
        "    self.self_attn_layer_norm = nn.LayerNorm(hidden_dim)\n",
        "    self.enc_attn_layer_norm = nn.LayerNorm(hidden_dim)\n",
        "    self.ff_layer_norm = nn.LayerNorm(hidden_dim)\n",
        "    self.self_attention = MultiHeadAttentionLayer(hidden_dim, n_heads, dropout_ratio, device)\n",
        "    self.encoder_attention = MultiHeadAttentionLayer(hidden_dim, n_heads, dropout_ratio, device)\n",
        "    self.positionwise_feedforward = PositionwiseFeedforwardLayer(hidden_dim, pf_dim, dropout_ratio)\n",
        "    self.dropout = nn.Dropout(dropout_ratio)\n",
        "\n",
        "  # 인코더의 출력값(enc_src)을 attention 하는 구조\n",
        "\n",
        "  def forward(self, trg, enc_src, trg_mask, src_mask):\n",
        "\n",
        "    # trg: [batch_size, trg_len, hidden_dim]\n",
        "    # enc_src: [batch_size, src_len, hidden_dim]\n",
        "    # trg_mask: [batch_size, trg_len]\n",
        "    # src_mask: [batch_size, src_len]\n",
        "\n",
        "    # self attention\n",
        "    # 자기 자신에 대해 attention\n",
        "    _trg, _ = self.self_attention(trg, trg, trg, trg_mask)\n",
        "\n",
        "    # dropout, residual connection and layer norm\n",
        "    trg = self.self_attn_layer_norm(trg + self.dropout(_trg))\n",
        "\n",
        "    # trg: [batch_size, trg_len, hidden_dim]\n",
        "\n",
        "    # encoder attention\n",
        "    # 디코더의 Query를 이용해 인코더를 attention\n",
        "    _trg, attention = self.encoder_attention(trg, enc_src, enc_src, src_mask)\n",
        "\n",
        "    # dropout, residual connection and layer norm\n",
        "    trg = self.enc_attn_layer_norm(trg + self.dropout(_trg))\n",
        "\n",
        "    # trg: [batch_size, trg_len, hidden_dim]\n",
        "\n",
        "    # postionwise feedforward\n",
        "    _trg = self.positionwise_feedforward(trg)\n",
        "\n",
        "    # dropout, residual and layer norm\n",
        "    trg = self.ff_layer_norm(trg + self.dropout(_trg))\n",
        "\n",
        "    # trg: [batch_size, trg_len, hidden_dim]\n",
        "    # attention: [batch_size, n_heads, trg_len, src_len]\n",
        "\n",
        "    return trg, attention"
      ],
      "execution_count": 53,
      "outputs": []
    },
    {
      "cell_type": "markdown",
      "metadata": {
        "id": "o5QahR8km616"
      },
      "source": [
        "### Decoder 아키텍처\n",
        "\n",
        "- 전체 디코더 아키텍처 정의\n",
        "- 하이퍼 파라미터\n",
        " - output_dim: 하나의 단어에 대한 원핫 인코딩 차원\n",
        " - hidden_dim: 하나의 단어에 대한 임베딩 차원\n",
        " - n_layers: 내부적으로 사용한 인코더 레이어의 개수\n",
        " - n_heads: head의 개수 = scaled dot-product attention의 개수\n",
        " - pf_dim: Feedforward 레이어에서의 내부 임베딩 차원\n",
        " - dropout_ratio: dropout 비율\n",
        " - max_length: 문장 내 최대 단어 개수\n",
        "\n",
        "- 원본 논문과 다르게 위치 임베딩을 학습하는 형태로 구현\n",
        " - BERT와 같은 모던 트랜스포머 아키텍처에서 사용되는 방식\n",
        "\n",
        "- Seq2Seq과는 마찬가지로 실제로 추론(inference) 시기에서는 디코더를 반복적으로 넣을 필요가 있음\n",
        " - 학습 시기에서는 한 번에 출력 문장을 구해 학습할 수 있음\n",
        "\n",
        "- 소스 문장의 <pad> 토큰에 대해 mask = 0\n",
        "- 타겟 문장에서 각 단어는 다음 단어를 알 수 없도록 (이전 단어만 보도록) 만들기 위해 마스크를 사용"
      ]
    },
    {
      "cell_type": "code",
      "metadata": {
        "id": "7j8CvUB_t1uE"
      },
      "source": [
        "class Decoder(nn.Module):\n",
        "  def __init__(self, output_dim, hidden_dim, n_layers, n_heads, pf_dim, dropout_ratio, device, max_length=100):\n",
        "    super().__init__()\n",
        "\n",
        "    self.device = device\n",
        "    self.tok_embedding = nn.Embedding(output_dim, hidden_dim)\n",
        "    self.pos_embedding = nn.Embedding(max_length, hidden_dim)\n",
        "\n",
        "    self.layers = nn.ModuleList([DecoderLayer(hidden_dim, n_heads, pf_dim, dropout_ratio, device)])\n",
        "\n",
        "    self.fc_out = nn.Linear(hidden_dim, output_dim)\n",
        "\n",
        "    self.dropout = nn.Dropout(dropout_ratio)\n",
        "\n",
        "    self.scale = torch.sqrt(torch.FloatTensor([hidden_dim])).to(device)\n",
        "\n",
        "  def forward(self, trg, enc_src, trg_mask, src_mask):\n",
        "    \n",
        "    # trg: [batch_size, trg_len]\n",
        "    # enc_src: [batch_size, src_len, hidden_dim]\n",
        "    # trg_mask: [batch_size, trg_len]\n",
        "    # src_mask: [batch_size, src_len]\n",
        "\n",
        "    batch_size = trg.shape[0]\n",
        "    trg_len = trg.shape[1]\n",
        "\n",
        "    pos = torch.arange(0, trg_len).unsqueeze(0).repeat(batch_size, 1).to(self.device)\n",
        "\n",
        "    # pos: [batch_size, trg_len]\n",
        "\n",
        "    trg = self.dropout((self.tok_embedding(trg) * self.scale) + self.pos_embedding(pos))\n",
        "\n",
        "    # trg: [batch_size, trg_len, hidden_dim]\n",
        "\n",
        "    for layer in self.layers:\n",
        "      # 소스 마스크와 타겟 마스크 모두 사용\n",
        "      trg, attention = layer(trg, enc_src, trg_mask, src_mask)\n",
        "\n",
        "    # trg: [batch_size, trg_len, hidden_dim]\n",
        "    # attention: [batch_size, n_heads, trg_len, src_len]\n",
        "\n",
        "    output = self.fc_out(trg)\n",
        "\n",
        "    # output: [batch_size, trg_len, output_dim]\n",
        "\n",
        "    return output, attention"
      ],
      "execution_count": 54,
      "outputs": []
    },
    {
      "cell_type": "markdown",
      "metadata": {
        "id": "bwhaoAigsTFO"
      },
      "source": [
        "### Transformer 아키텍처\n",
        "\n",
        "- 최종적인 전체 Transformer 모델을 정의\n",
        "- 입력이 들어왔을 때 앞서 정의한 인코더와 디코더를 거쳐 출력 문장을 생성"
      ]
    },
    {
      "cell_type": "code",
      "metadata": {
        "id": "jrag9ZnAsO5h"
      },
      "source": [
        "class Transformer(nn.Module):\n",
        "  def __init__(self, encoder, decoder, src_pad_idx, trg_pad_idx, device):\n",
        "    super().__init__()    \n",
        "\n",
        "    self.encoder = encoder\n",
        "    self.decoder = decoder\n",
        "    self.src_pad_idx = src_pad_idx\n",
        "    self.trg_pad_idx = trg_pad_idx\n",
        "    self.device = device\n",
        "\n",
        "  # 소스 문장의 <pad> 토큰에 대하여 mask 값을 0으로 설정\n",
        "  def make_src_mask(self, src):\n",
        "\n",
        "    # src: [batch_size, src_len]\n",
        "\n",
        "    src_mask = (src != self.src_pad_idx).unsqueeze(1).unsqueeze(2)\n",
        "\n",
        "    # src_mask: [batch_size, 1, 1, src_len]\n",
        "\n",
        "    return src_mask\n",
        "\n",
        "    # 타겟 문장에서 각 단어는 다음 단어가 무엇인지 알 수 없도록 (이전 단어만 보도록) 만들기 위해 마스크를 사용\n",
        "    def make_trg_mask(self, trg):\n",
        "\n",
        "      # trg: [batch_size, trg_len]\n",
        "\n",
        "      \"\"\" (마스크 예시)\n",
        "      1 0 0 0 0\n",
        "      1 1 0 0 0\n",
        "      1 1 1 0 0\n",
        "      1 1 1 0 0\n",
        "      1 1 1 0 0\n",
        "      \"\"\"\n",
        "      trg_pad_mask = (trg != self.trg_pad_idx).unsqueeze(1).unsqueeze(2)\n",
        "\n",
        "      # trg_pad_mask: [batch_size, 1, 1, trg_len]\n",
        "\n",
        "      trg_len = trg.shape[1]\n",
        "\n",
        "      \"\"\" (마스크 예시)\n",
        "      1 0 0 0 0\n",
        "      1 1 0 0 0\n",
        "      1 1 1 0 0\n",
        "      1 1 1 0 0\n",
        "      1 1 1 0 0\n",
        "      \"\"\"\n",
        "      trg_sub_mask = torch.trill(torch.ones((trg_len, trg_len), device = self.device)),bool()\n",
        "\n",
        "      # trg_sub_mask: [trg_len, trg_len]\n",
        "\n",
        "      trg_mask = trg_pad_mask & trg_sub_mask\n",
        "\n",
        "      # trg_mask: [batch_size, 1, trg_len, trg_len]\n",
        "\n",
        "      return trg_mask\n",
        "\n",
        "    def forward(self, src, trg):\n",
        "\n",
        "      # src: [batch_size, src_len]\n",
        "      # trg: [batch_size, trg_len]\n",
        "\n",
        "      src_mask = self.make_src_mask(src)\n",
        "      trg_mask = self.make_trg_mask(trg)\n",
        "\n",
        "      # src_mask: [batch_size, 1, 1, src_len]\n",
        "      # trg_mask: [batch_size, 1, trg_len, trg_len]\n",
        "\n",
        "      enc_src = self.encoder(src, src_mask)\n",
        "\n",
        "      # enc_src: [batch_size, src_len, hidden_dim]\n",
        "\n",
        "      output, attention = self.decoder(trg, enc_src, trg_mask, src_mask)\n",
        "\n",
        "      # output: [batch_size, trg_len, output_dim]\n",
        "      # attention: [batch_size, n_heads, trg_len, src_len]\n",
        "\n",
        "      return output, attention"
      ],
      "execution_count": 55,
      "outputs": []
    },
    {
      "cell_type": "markdown",
      "metadata": {
        "id": "BHpZuod0uIDl"
      },
      "source": [
        "### 학습 (training)\n",
        "\n",
        "- 하이퍼 파라미터 설정 및 모델 초기화"
      ]
    },
    {
      "cell_type": "code",
      "metadata": {
        "id": "8ddRgfmqsJyF"
      },
      "source": [
        "INPUT_DIM = len(SRC.vocab)\n",
        "OUTPUT_DIM = len(TRG.vocab)\n",
        "HIDDEN_DIM = 256\n",
        "ENC_LAYERS = 3\n",
        "DEC_LAYERS = 3\n",
        "ENC_HEADS = 8\n",
        "DEC_HEADS = 8\n",
        "ENC_PF_DIM = 512\n",
        "DEC_PF_DIM = 512\n",
        "ENC_DROPOUT = 0.1\n",
        "DEC_DROPOUT = 0.1"
      ],
      "execution_count": 56,
      "outputs": []
    },
    {
      "cell_type": "code",
      "metadata": {
        "id": "9tTyqh25vBxX"
      },
      "source": [
        "SRC_PAD_IDX = SRC.vocab.stoi[SRC.pad_token]\n",
        "TRG_PAD_IDX = TRG.vocab.stoi[TRG.pad_token]\n",
        "\n",
        "# Encoder 와 Decoder 객체 선언\n",
        "enc = Encoder(INPUT_DIM, HIDDEN_DIM, ENC_LAYERS, ENC_HEADS, ENC_PF_DIM, ENC_DROPOUT, device)\n",
        "dec = Decoder(OUTPUT_DIM, HIDDEN_DIM, DEC_LAYERS, DEC_HEADS, DEC_PF_DIM, DEC_DROPOUT, device)\n",
        "\n",
        "# Transformer 객체 선언\n",
        "model = Transformer(enc, dec, SRC_PAD_IDX, TRG_PAD_IDX, device).to(device)"
      ],
      "execution_count": 57,
      "outputs": []
    },
    {
      "cell_type": "markdown",
      "metadata": {
        "id": "QJFLlIGkwBSn"
      },
      "source": [
        "- 모델 가중치 파라미터 초기화"
      ]
    },
    {
      "cell_type": "code",
      "metadata": {
        "id": "_1CXP0x_t1w0",
        "colab": {
          "base_uri": "https://localhost:8080/"
        },
        "outputId": "decc0d68-60a2-4720-98aa-9f68e97426eb"
      },
      "source": [
        "def count_parameters(model):\n",
        "  return sum(p.numel() for p in model.parameters() if p.requires_grad)\n",
        "\n",
        "print(f'The model has {count_parameters(model):,} trainable parameters')"
      ],
      "execution_count": 58,
      "outputs": [
        {
          "output_type": "stream",
          "text": [
            "The model has 7,457,285 trainable parameters\n"
          ],
          "name": "stdout"
        }
      ]
    },
    {
      "cell_type": "code",
      "metadata": {
        "colab": {
          "base_uri": "https://localhost:8080/"
        },
        "id": "lacdDBrLxvw-",
        "outputId": "7f56e5c4-7ce2-4d83-b407-67df303c7880"
      },
      "source": [
        "def initialize_weights(m):\n",
        "  if hasattr(m, 'weight') and m.weight.dim() > 1:\n",
        "    nn.init.xavier_uniform_(m.weight.data)\n",
        "\n",
        "model.apply(initialize_weights)"
      ],
      "execution_count": 59,
      "outputs": [
        {
          "output_type": "execute_result",
          "data": {
            "text/plain": [
              "Transformer(\n",
              "  (encoder): Encoder(\n",
              "    (tok_embedding): Embedding(7855, 256)\n",
              "    (pos_embedding): Embedding(100, 256)\n",
              "    (layers): ModuleList(\n",
              "      (0): EncoderLayer(\n",
              "        (self_attn_layer_norm): LayerNorm((256,), eps=1e-05, elementwise_affine=True)\n",
              "        (ff_layer_norm): LayerNorm((256,), eps=1e-05, elementwise_affine=True)\n",
              "        (self_attention): MultiHeadAttentionLayer(\n",
              "          (fc_q): Linear(in_features=256, out_features=256, bias=True)\n",
              "          (fc_k): Linear(in_features=256, out_features=256, bias=True)\n",
              "          (fc_v): Linear(in_features=256, out_features=256, bias=True)\n",
              "          (fc_o): Linear(in_features=256, out_features=256, bias=True)\n",
              "          (dropout): Dropout(p=0.1, inplace=False)\n",
              "        )\n",
              "        (positionwise_feedforward): PositionwiseFeedforwardLayer(\n",
              "          (fc_1): Linear(in_features=256, out_features=512, bias=True)\n",
              "          (fc_2): Linear(in_features=512, out_features=256, bias=True)\n",
              "          (dropout): Dropout(p=0.1, inplace=False)\n",
              "        )\n",
              "        (dropout): Dropout(p=0.1, inplace=False)\n",
              "      )\n",
              "      (1): EncoderLayer(\n",
              "        (self_attn_layer_norm): LayerNorm((256,), eps=1e-05, elementwise_affine=True)\n",
              "        (ff_layer_norm): LayerNorm((256,), eps=1e-05, elementwise_affine=True)\n",
              "        (self_attention): MultiHeadAttentionLayer(\n",
              "          (fc_q): Linear(in_features=256, out_features=256, bias=True)\n",
              "          (fc_k): Linear(in_features=256, out_features=256, bias=True)\n",
              "          (fc_v): Linear(in_features=256, out_features=256, bias=True)\n",
              "          (fc_o): Linear(in_features=256, out_features=256, bias=True)\n",
              "          (dropout): Dropout(p=0.1, inplace=False)\n",
              "        )\n",
              "        (positionwise_feedforward): PositionwiseFeedforwardLayer(\n",
              "          (fc_1): Linear(in_features=256, out_features=512, bias=True)\n",
              "          (fc_2): Linear(in_features=512, out_features=256, bias=True)\n",
              "          (dropout): Dropout(p=0.1, inplace=False)\n",
              "        )\n",
              "        (dropout): Dropout(p=0.1, inplace=False)\n",
              "      )\n",
              "      (2): EncoderLayer(\n",
              "        (self_attn_layer_norm): LayerNorm((256,), eps=1e-05, elementwise_affine=True)\n",
              "        (ff_layer_norm): LayerNorm((256,), eps=1e-05, elementwise_affine=True)\n",
              "        (self_attention): MultiHeadAttentionLayer(\n",
              "          (fc_q): Linear(in_features=256, out_features=256, bias=True)\n",
              "          (fc_k): Linear(in_features=256, out_features=256, bias=True)\n",
              "          (fc_v): Linear(in_features=256, out_features=256, bias=True)\n",
              "          (fc_o): Linear(in_features=256, out_features=256, bias=True)\n",
              "          (dropout): Dropout(p=0.1, inplace=False)\n",
              "        )\n",
              "        (positionwise_feedforward): PositionwiseFeedforwardLayer(\n",
              "          (fc_1): Linear(in_features=256, out_features=512, bias=True)\n",
              "          (fc_2): Linear(in_features=512, out_features=256, bias=True)\n",
              "          (dropout): Dropout(p=0.1, inplace=False)\n",
              "        )\n",
              "        (dropout): Dropout(p=0.1, inplace=False)\n",
              "      )\n",
              "    )\n",
              "    (dropout): Dropout(p=0.1, inplace=False)\n",
              "  )\n",
              "  (decoder): Decoder(\n",
              "    (tok_embedding): Embedding(5893, 256)\n",
              "    (pos_embedding): Embedding(100, 256)\n",
              "    (layers): ModuleList(\n",
              "      (0): DecoderLayer(\n",
              "        (self_attn_layer_norm): LayerNorm((256,), eps=1e-05, elementwise_affine=True)\n",
              "        (enc_attn_layer_norm): LayerNorm((256,), eps=1e-05, elementwise_affine=True)\n",
              "        (ff_layer_norm): LayerNorm((256,), eps=1e-05, elementwise_affine=True)\n",
              "        (self_attention): MultiHeadAttentionLayer(\n",
              "          (fc_q): Linear(in_features=256, out_features=256, bias=True)\n",
              "          (fc_k): Linear(in_features=256, out_features=256, bias=True)\n",
              "          (fc_v): Linear(in_features=256, out_features=256, bias=True)\n",
              "          (fc_o): Linear(in_features=256, out_features=256, bias=True)\n",
              "          (dropout): Dropout(p=0.1, inplace=False)\n",
              "        )\n",
              "        (encoder_attention): MultiHeadAttentionLayer(\n",
              "          (fc_q): Linear(in_features=256, out_features=256, bias=True)\n",
              "          (fc_k): Linear(in_features=256, out_features=256, bias=True)\n",
              "          (fc_v): Linear(in_features=256, out_features=256, bias=True)\n",
              "          (fc_o): Linear(in_features=256, out_features=256, bias=True)\n",
              "          (dropout): Dropout(p=0.1, inplace=False)\n",
              "        )\n",
              "        (positionwise_feedforward): PositionwiseFeedforwardLayer(\n",
              "          (fc_1): Linear(in_features=256, out_features=512, bias=True)\n",
              "          (fc_2): Linear(in_features=512, out_features=256, bias=True)\n",
              "          (dropout): Dropout(p=0.1, inplace=False)\n",
              "        )\n",
              "        (dropout): Dropout(p=0.1, inplace=False)\n",
              "      )\n",
              "    )\n",
              "    (fc_out): Linear(in_features=256, out_features=5893, bias=True)\n",
              "    (dropout): Dropout(p=0.1, inplace=False)\n",
              "  )\n",
              ")"
            ]
          },
          "metadata": {
            "tags": []
          },
          "execution_count": 59
        }
      ]
    },
    {
      "cell_type": "markdown",
      "metadata": {
        "id": "zGVac7skyKM9"
      },
      "source": [
        "- 학습 및 평가 함수 정의\n",
        " - 기본적인 Seq2Seq 모델과 거의 유사하게 작성할 수 있음"
      ]
    },
    {
      "cell_type": "code",
      "metadata": {
        "id": "9GS4halKt1zH"
      },
      "source": [
        "import torch.optim as optim\n",
        "\n",
        "# Adam optimizer로 학습 최적화\n",
        "LEARNING_RATE = 0.0005\n",
        "optimizer = torch.optim.Adam(model.parameters(), lr = LEARNING_RATE)\n",
        "\n",
        "# 뒷 부분의 패딩에 대해서는 값 무시\n",
        "criterion = nn.CrossEntropyLoss(ignore_index = TRG_PAD_IDX)"
      ],
      "execution_count": 60,
      "outputs": []
    },
    {
      "cell_type": "code",
      "metadata": {
        "id": "MtvuMwgKy5ii"
      },
      "source": [
        "# 모델 학습(train) 함수\n",
        "def train(model, iterator, optimizer, criterion, clip):\n",
        "  model.train() # 학습 모드\n",
        "  epoch_loss = 0\n",
        "\n",
        "  # 전체 학습 데이터를 확인하며\n",
        "  for i, batch in enumerate(iterator):\n",
        "    src = batch.src\n",
        "    trg = batch.trg\n",
        "\n",
        "    optimizer.zero_grad()\n",
        "\n",
        "    # 출력 단어의 마지막 인덱스(<eos>)는 제외\n",
        "    # 입력을 할 때는 <sos>부터 시작하도록 처리\n",
        "    output, _ = model(src, trg[:,:-1])\n",
        "\n",
        "    # output: [배치 크기, trg_len -1, output_dim]\n",
        "    # trg: [배치 크기, trg_len]\n",
        "\n",
        "    output_dim = output.shape[-1]\n",
        "\n",
        "    output = output.contiguous().view(-1, output_dim)\n",
        "    # 출력 단어의 인덱스 0(<sos>)은 제외\n",
        "    trg = trg[:,1:].contiguous().view(-1)\n",
        "\n",
        "    # output: [배치 크기 * trg_len -1, output_dim]\n",
        "    # trg: [배치 크기 * trg_len -1]\n",
        "\n",
        "    # 모델의 출력 결과와 타겟 문장을 비교하여 손실 계산\n",
        "    loss = criterion(output, trg)\n",
        "    loss.backward() # 기울기(gradient) 계산\n",
        "\n",
        "    # 기울기(gradient) clipping 진행\n",
        "    torch.nn.utils.clip_grad_norm_(model.parameters(), clip)\n",
        "\n",
        "    # 파라미터 업데이트\n",
        "    optimizer.step()\n",
        "\n",
        "    # 전체 손실 값 계산\n",
        "    epoch_loss += loss.item()\n",
        "\n",
        "  return epoch_loss / len(iterator)"
      ],
      "execution_count": 61,
      "outputs": []
    },
    {
      "cell_type": "code",
      "metadata": {
        "id": "Xn0G2QkU4wnm"
      },
      "source": [
        "# 모델 평가 (evaluate) 함수\n",
        "def evaluate(model, iterator, criterion):\n",
        "  model.eval() # 평가 모드\n",
        "  epoch_loss = 0\n",
        "\n",
        "  with torch.no_grad():\n",
        "    # 전체 평가 데이터를 확인하며\n",
        "    for i, batch in enumerate(iterator):\n",
        "      src = batch.src\n",
        "      trg = batch.trg\n",
        "\n",
        "      # 출력 단어의 마지막 인덱스(<eos>)는 제외\n",
        "      # 입력을 할 때는 <sos>부터 시작하도록 처리\n",
        "      output, _ = model(src, trg[:, :-1])\n",
        "\n",
        "      # output: [배치 크기, trg_len - 1, output_dim]\n",
        "      # trg: [배치 크기, trg_len]\n",
        "\n",
        "      output_dim = output.shape[-1]\n",
        "\n",
        "      output = output.contiguous().view(-1, output_dim)\n",
        "      # 출력 단어의 인덱스 0(<sos>)은 제외\n",
        "      trg = trg[:, 1:].contiguous().view(-1)\n",
        "\n",
        "      # output: [배치 크기 * trg_len -1, output_dim]\n",
        "      # trg: [배치 크기 * trg_len -1]\n",
        "\n",
        "      # 모델의 출력 결과와 타겟 문장을 비교하여 손실 계산\n",
        "      loss = criterion(output, trg)\n",
        "\n",
        "      # 전체 손실 값 계산\n",
        "      epoch_loss += loss.item()\n",
        "\n",
        "  return epoch_loss / len(iterator)"
      ],
      "execution_count": 62,
      "outputs": []
    },
    {
      "cell_type": "markdown",
      "metadata": {
        "id": "p-PUkyxA77xP"
      },
      "source": [
        "- 학습 (training) 및 검증 (validation) 진행\n",
        " - 학습 횟수(epoch) : 10"
      ]
    },
    {
      "cell_type": "code",
      "metadata": {
        "id": "y5hGA8vk763I"
      },
      "source": [
        "import math\n",
        "import time\n",
        "\n",
        "def epoch_time(start_time, end_time):\n",
        "  elapsed_time = end_time - start_time\n",
        "  elapsed_mins = int(elapsed_time / 60)\n",
        "  elapsed_secs = int(elapsed_time - (elapsed_mins * 60))\n",
        "  return elapsed_mins, elapsed_secs"
      ],
      "execution_count": 63,
      "outputs": []
    },
    {
      "cell_type": "code",
      "metadata": {
        "colab": {
          "base_uri": "https://localhost:8080/",
          "height": 396
        },
        "id": "RR5XSoju-BeS",
        "outputId": "b195914b-9100-4fd7-ee7d-070b7137b747"
      },
      "source": [
        "import time\n",
        "import math\n",
        "import random\n",
        "\n",
        "N_EPOCHS = 10\n",
        "CLIP = 1\n",
        "best_valid_loss = float('inf')\n",
        "\n",
        "for epoch in range(N_EPOCHS):\n",
        "    start_time = time.time() # 시작 시간 기록\n",
        "\n",
        "    train_loss = train(model, train_iterator, optimizer, criterion, CLIP)\n",
        "    valid_loss = evaluate(model, valid_iterator, criterion)\n",
        "\n",
        "    end_time = time.time() # 종료 시간 기록\n",
        "    epoch_mins, epoch_secs = epoch_time(start_time, end_time)\n",
        "\n",
        "    if valid_loss < best_valid_loss:\n",
        "        best_valid_loss = valid_loss\n",
        "        torch.save(model.state_dict(), 'transformer_german_to_english.pt')\n",
        "\n",
        "    print(f'Epoch: {epoch + 1:02} | Time: {epoch_mins}m {epoch_secs}s')\n",
        "    print(f'\\tTrain Loss: {train_loss:.3f} | Train PPL: {math.exp(train_loss):.3f}')\n",
        "    print(f'\\tValidation Loss: {valid_loss:.3f} | Validation PPL: {math.exp(valid_loss):.3f}')"
      ],
      "execution_count": 67,
      "outputs": [
        {
          "output_type": "error",
          "ename": "NotImplementedError",
          "evalue": "ignored",
          "traceback": [
            "\u001b[0;31m---------------------------------------------------------------------------\u001b[0m",
            "\u001b[0;31mNotImplementedError\u001b[0m                       Traceback (most recent call last)",
            "\u001b[0;32m<ipython-input-67-f8c95d0eff45>\u001b[0m in \u001b[0;36m<module>\u001b[0;34m()\u001b[0m\n\u001b[1;32m     10\u001b[0m     \u001b[0mstart_time\u001b[0m \u001b[0;34m=\u001b[0m \u001b[0mtime\u001b[0m\u001b[0;34m.\u001b[0m\u001b[0mtime\u001b[0m\u001b[0;34m(\u001b[0m\u001b[0;34m)\u001b[0m \u001b[0;31m# 시작 시간 기록\u001b[0m\u001b[0;34m\u001b[0m\u001b[0;34m\u001b[0m\u001b[0m\n\u001b[1;32m     11\u001b[0m \u001b[0;34m\u001b[0m\u001b[0m\n\u001b[0;32m---> 12\u001b[0;31m     \u001b[0mtrain_loss\u001b[0m \u001b[0;34m=\u001b[0m \u001b[0mtrain\u001b[0m\u001b[0;34m(\u001b[0m\u001b[0mmodel\u001b[0m\u001b[0;34m,\u001b[0m \u001b[0mtrain_iterator\u001b[0m\u001b[0;34m,\u001b[0m \u001b[0moptimizer\u001b[0m\u001b[0;34m,\u001b[0m \u001b[0mcriterion\u001b[0m\u001b[0;34m,\u001b[0m \u001b[0mCLIP\u001b[0m\u001b[0;34m)\u001b[0m\u001b[0;34m\u001b[0m\u001b[0;34m\u001b[0m\u001b[0m\n\u001b[0m\u001b[1;32m     13\u001b[0m     \u001b[0mvalid_loss\u001b[0m \u001b[0;34m=\u001b[0m \u001b[0mevaluate\u001b[0m\u001b[0;34m(\u001b[0m\u001b[0mmodel\u001b[0m\u001b[0;34m,\u001b[0m \u001b[0mvalid_iterator\u001b[0m\u001b[0;34m,\u001b[0m \u001b[0mcriterion\u001b[0m\u001b[0;34m)\u001b[0m\u001b[0;34m\u001b[0m\u001b[0;34m\u001b[0m\u001b[0m\n\u001b[1;32m     14\u001b[0m \u001b[0;34m\u001b[0m\u001b[0m\n",
            "\u001b[0;32m<ipython-input-61-26f233ff78f8>\u001b[0m in \u001b[0;36mtrain\u001b[0;34m(model, iterator, optimizer, criterion, clip)\u001b[0m\n\u001b[1;32m     13\u001b[0m     \u001b[0;31m# 출력 단어의 마지막 인덱스(<eos>)는 제외\u001b[0m\u001b[0;34m\u001b[0m\u001b[0;34m\u001b[0m\u001b[0;34m\u001b[0m\u001b[0m\n\u001b[1;32m     14\u001b[0m     \u001b[0;31m# 입력을 할 때는 <sos>부터 시작하도록 처리\u001b[0m\u001b[0;34m\u001b[0m\u001b[0;34m\u001b[0m\u001b[0;34m\u001b[0m\u001b[0m\n\u001b[0;32m---> 15\u001b[0;31m     \u001b[0moutput\u001b[0m\u001b[0;34m,\u001b[0m \u001b[0m_\u001b[0m \u001b[0;34m=\u001b[0m \u001b[0mmodel\u001b[0m\u001b[0;34m(\u001b[0m\u001b[0msrc\u001b[0m\u001b[0;34m,\u001b[0m \u001b[0mtrg\u001b[0m\u001b[0;34m[\u001b[0m\u001b[0;34m:\u001b[0m\u001b[0;34m,\u001b[0m\u001b[0;34m:\u001b[0m\u001b[0;34m-\u001b[0m\u001b[0;36m1\u001b[0m\u001b[0;34m]\u001b[0m\u001b[0;34m)\u001b[0m\u001b[0;34m\u001b[0m\u001b[0;34m\u001b[0m\u001b[0m\n\u001b[0m\u001b[1;32m     16\u001b[0m \u001b[0;34m\u001b[0m\u001b[0m\n\u001b[1;32m     17\u001b[0m     \u001b[0;31m# output: [배치 크기, trg_len -1, output_dim]\u001b[0m\u001b[0;34m\u001b[0m\u001b[0;34m\u001b[0m\u001b[0;34m\u001b[0m\u001b[0m\n",
            "\u001b[0;32m/usr/local/lib/python3.7/dist-packages/torch/nn/modules/module.py\u001b[0m in \u001b[0;36m_call_impl\u001b[0;34m(self, *input, **kwargs)\u001b[0m\n\u001b[1;32m   1049\u001b[0m         if not (self._backward_hooks or self._forward_hooks or self._forward_pre_hooks or _global_backward_hooks\n\u001b[1;32m   1050\u001b[0m                 or _global_forward_hooks or _global_forward_pre_hooks):\n\u001b[0;32m-> 1051\u001b[0;31m             \u001b[0;32mreturn\u001b[0m \u001b[0mforward_call\u001b[0m\u001b[0;34m(\u001b[0m\u001b[0;34m*\u001b[0m\u001b[0minput\u001b[0m\u001b[0;34m,\u001b[0m \u001b[0;34m**\u001b[0m\u001b[0mkwargs\u001b[0m\u001b[0;34m)\u001b[0m\u001b[0;34m\u001b[0m\u001b[0;34m\u001b[0m\u001b[0m\n\u001b[0m\u001b[1;32m   1052\u001b[0m         \u001b[0;31m# Do not call functions when jit is used\u001b[0m\u001b[0;34m\u001b[0m\u001b[0;34m\u001b[0m\u001b[0;34m\u001b[0m\u001b[0m\n\u001b[1;32m   1053\u001b[0m         \u001b[0mfull_backward_hooks\u001b[0m\u001b[0;34m,\u001b[0m \u001b[0mnon_full_backward_hooks\u001b[0m \u001b[0;34m=\u001b[0m \u001b[0;34m[\u001b[0m\u001b[0;34m]\u001b[0m\u001b[0;34m,\u001b[0m \u001b[0;34m[\u001b[0m\u001b[0;34m]\u001b[0m\u001b[0;34m\u001b[0m\u001b[0;34m\u001b[0m\u001b[0m\n",
            "\u001b[0;32m/usr/local/lib/python3.7/dist-packages/torch/nn/modules/module.py\u001b[0m in \u001b[0;36m_forward_unimplemented\u001b[0;34m(self, *input)\u001b[0m\n\u001b[1;32m    199\u001b[0m         \u001b[0mregistered\u001b[0m \u001b[0mhooks\u001b[0m \u001b[0;32mwhile\u001b[0m \u001b[0mthe\u001b[0m \u001b[0mlatter\u001b[0m \u001b[0msilently\u001b[0m \u001b[0mignores\u001b[0m \u001b[0mthem\u001b[0m\u001b[0;34m.\u001b[0m\u001b[0;34m\u001b[0m\u001b[0;34m\u001b[0m\u001b[0m\n\u001b[1;32m    200\u001b[0m     \"\"\"\n\u001b[0;32m--> 201\u001b[0;31m     \u001b[0;32mraise\u001b[0m \u001b[0mNotImplementedError\u001b[0m\u001b[0;34m\u001b[0m\u001b[0;34m\u001b[0m\u001b[0m\n\u001b[0m\u001b[1;32m    202\u001b[0m \u001b[0;34m\u001b[0m\u001b[0m\n\u001b[1;32m    203\u001b[0m \u001b[0;34m\u001b[0m\u001b[0m\n",
            "\u001b[0;31mNotImplementedError\u001b[0m: "
          ]
        }
      ]
    },
    {
      "cell_type": "code",
      "metadata": {
        "id": "l2M2Chq3IUjg"
      },
      "source": [
        "# 학습된 모델 저장\n",
        "\n",
        "from google.colab import files\n",
        "\n",
        "files.download('transformer_german_to_english.pt')"
      ],
      "execution_count": null,
      "outputs": []
    },
    {
      "cell_type": "markdown",
      "metadata": {
        "id": "2e_uT5L1HUQn"
      },
      "source": [
        "### 모델 최종 테스트 결과확인"
      ]
    },
    {
      "cell_type": "code",
      "metadata": {
        "id": "dnt6fwqJtYph"
      },
      "source": [
        "!wget https://postechackr-my.sharepoint.com/:u:/g/personal/dongbinna_postech_ac_kr/EbWFiKBmscFBrbzCQxRyqwsBwcXgdKdimkdsBl2dE9VYaQ?download=1 -O transformer_german_to_english.pt"
      ],
      "execution_count": null,
      "outputs": []
    },
    {
      "cell_type": "code",
      "metadata": {
        "id": "SHQq16Q1sdQk",
        "colab": {
          "base_uri": "https://localhost:8080/",
          "height": 396
        },
        "outputId": "f64d3542-8d75-4ebf-ddb0-edb4bae948e3"
      },
      "source": [
        "model.load_state_dict(torch.load('transformer_german_to_english.pt'))\n",
        "\n",
        "test_loss = evaluate(model, test_iterator, criterion)\n",
        "\n",
        "print(f'Test Loss: {test_loss:.3f} | Test PPL: {math.exp(test_loss):.3f}')"
      ],
      "execution_count": 68,
      "outputs": [
        {
          "output_type": "error",
          "ename": "FileNotFoundError",
          "evalue": "ignored",
          "traceback": [
            "\u001b[0;31m---------------------------------------------------------------------------\u001b[0m",
            "\u001b[0;31mFileNotFoundError\u001b[0m                         Traceback (most recent call last)",
            "\u001b[0;32m<ipython-input-68-56ad5c5e3a50>\u001b[0m in \u001b[0;36m<module>\u001b[0;34m()\u001b[0m\n\u001b[0;32m----> 1\u001b[0;31m \u001b[0mmodel\u001b[0m\u001b[0;34m.\u001b[0m\u001b[0mload_state_dict\u001b[0m\u001b[0;34m(\u001b[0m\u001b[0mtorch\u001b[0m\u001b[0;34m.\u001b[0m\u001b[0mload\u001b[0m\u001b[0;34m(\u001b[0m\u001b[0;34m'transformer_german_to_english.pt'\u001b[0m\u001b[0;34m)\u001b[0m\u001b[0;34m)\u001b[0m\u001b[0;34m\u001b[0m\u001b[0;34m\u001b[0m\u001b[0m\n\u001b[0m\u001b[1;32m      2\u001b[0m \u001b[0;34m\u001b[0m\u001b[0m\n\u001b[1;32m      3\u001b[0m \u001b[0mtest_loss\u001b[0m \u001b[0;34m=\u001b[0m \u001b[0mevaluate\u001b[0m\u001b[0;34m(\u001b[0m\u001b[0mmodel\u001b[0m\u001b[0;34m,\u001b[0m \u001b[0mtest_iterator\u001b[0m\u001b[0;34m,\u001b[0m \u001b[0mcriterion\u001b[0m\u001b[0;34m)\u001b[0m\u001b[0;34m\u001b[0m\u001b[0;34m\u001b[0m\u001b[0m\n\u001b[1;32m      4\u001b[0m \u001b[0;34m\u001b[0m\u001b[0m\n\u001b[1;32m      5\u001b[0m \u001b[0mprint\u001b[0m\u001b[0;34m(\u001b[0m\u001b[0;34mf'Test Loss: {test_loss:.3f} | Test PPL: {math.exp(test_loss):.3f}'\u001b[0m\u001b[0;34m)\u001b[0m\u001b[0;34m\u001b[0m\u001b[0;34m\u001b[0m\u001b[0m\n",
            "\u001b[0;32m/usr/local/lib/python3.7/dist-packages/torch/serialization.py\u001b[0m in \u001b[0;36mload\u001b[0;34m(f, map_location, pickle_module, **pickle_load_args)\u001b[0m\n\u001b[1;32m    592\u001b[0m         \u001b[0mpickle_load_args\u001b[0m\u001b[0;34m[\u001b[0m\u001b[0;34m'encoding'\u001b[0m\u001b[0;34m]\u001b[0m \u001b[0;34m=\u001b[0m \u001b[0;34m'utf-8'\u001b[0m\u001b[0;34m\u001b[0m\u001b[0;34m\u001b[0m\u001b[0m\n\u001b[1;32m    593\u001b[0m \u001b[0;34m\u001b[0m\u001b[0m\n\u001b[0;32m--> 594\u001b[0;31m     \u001b[0;32mwith\u001b[0m \u001b[0m_open_file_like\u001b[0m\u001b[0;34m(\u001b[0m\u001b[0mf\u001b[0m\u001b[0;34m,\u001b[0m \u001b[0;34m'rb'\u001b[0m\u001b[0;34m)\u001b[0m \u001b[0;32mas\u001b[0m \u001b[0mopened_file\u001b[0m\u001b[0;34m:\u001b[0m\u001b[0;34m\u001b[0m\u001b[0;34m\u001b[0m\u001b[0m\n\u001b[0m\u001b[1;32m    595\u001b[0m         \u001b[0;32mif\u001b[0m \u001b[0m_is_zipfile\u001b[0m\u001b[0;34m(\u001b[0m\u001b[0mopened_file\u001b[0m\u001b[0;34m)\u001b[0m\u001b[0;34m:\u001b[0m\u001b[0;34m\u001b[0m\u001b[0;34m\u001b[0m\u001b[0m\n\u001b[1;32m    596\u001b[0m             \u001b[0;31m# The zipfile reader is going to advance the current file position.\u001b[0m\u001b[0;34m\u001b[0m\u001b[0;34m\u001b[0m\u001b[0;34m\u001b[0m\u001b[0m\n",
            "\u001b[0;32m/usr/local/lib/python3.7/dist-packages/torch/serialization.py\u001b[0m in \u001b[0;36m_open_file_like\u001b[0;34m(name_or_buffer, mode)\u001b[0m\n\u001b[1;32m    228\u001b[0m \u001b[0;32mdef\u001b[0m \u001b[0m_open_file_like\u001b[0m\u001b[0;34m(\u001b[0m\u001b[0mname_or_buffer\u001b[0m\u001b[0;34m,\u001b[0m \u001b[0mmode\u001b[0m\u001b[0;34m)\u001b[0m\u001b[0;34m:\u001b[0m\u001b[0;34m\u001b[0m\u001b[0;34m\u001b[0m\u001b[0m\n\u001b[1;32m    229\u001b[0m     \u001b[0;32mif\u001b[0m \u001b[0m_is_path\u001b[0m\u001b[0;34m(\u001b[0m\u001b[0mname_or_buffer\u001b[0m\u001b[0;34m)\u001b[0m\u001b[0;34m:\u001b[0m\u001b[0;34m\u001b[0m\u001b[0;34m\u001b[0m\u001b[0m\n\u001b[0;32m--> 230\u001b[0;31m         \u001b[0;32mreturn\u001b[0m \u001b[0m_open_file\u001b[0m\u001b[0;34m(\u001b[0m\u001b[0mname_or_buffer\u001b[0m\u001b[0;34m,\u001b[0m \u001b[0mmode\u001b[0m\u001b[0;34m)\u001b[0m\u001b[0;34m\u001b[0m\u001b[0;34m\u001b[0m\u001b[0m\n\u001b[0m\u001b[1;32m    231\u001b[0m     \u001b[0;32melse\u001b[0m\u001b[0;34m:\u001b[0m\u001b[0;34m\u001b[0m\u001b[0;34m\u001b[0m\u001b[0m\n\u001b[1;32m    232\u001b[0m         \u001b[0;32mif\u001b[0m \u001b[0;34m'w'\u001b[0m \u001b[0;32min\u001b[0m \u001b[0mmode\u001b[0m\u001b[0;34m:\u001b[0m\u001b[0;34m\u001b[0m\u001b[0;34m\u001b[0m\u001b[0m\n",
            "\u001b[0;32m/usr/local/lib/python3.7/dist-packages/torch/serialization.py\u001b[0m in \u001b[0;36m__init__\u001b[0;34m(self, name, mode)\u001b[0m\n\u001b[1;32m    209\u001b[0m \u001b[0;32mclass\u001b[0m \u001b[0m_open_file\u001b[0m\u001b[0;34m(\u001b[0m\u001b[0m_opener\u001b[0m\u001b[0;34m)\u001b[0m\u001b[0;34m:\u001b[0m\u001b[0;34m\u001b[0m\u001b[0;34m\u001b[0m\u001b[0m\n\u001b[1;32m    210\u001b[0m     \u001b[0;32mdef\u001b[0m \u001b[0m__init__\u001b[0m\u001b[0;34m(\u001b[0m\u001b[0mself\u001b[0m\u001b[0;34m,\u001b[0m \u001b[0mname\u001b[0m\u001b[0;34m,\u001b[0m \u001b[0mmode\u001b[0m\u001b[0;34m)\u001b[0m\u001b[0;34m:\u001b[0m\u001b[0;34m\u001b[0m\u001b[0;34m\u001b[0m\u001b[0m\n\u001b[0;32m--> 211\u001b[0;31m         \u001b[0msuper\u001b[0m\u001b[0;34m(\u001b[0m\u001b[0m_open_file\u001b[0m\u001b[0;34m,\u001b[0m \u001b[0mself\u001b[0m\u001b[0;34m)\u001b[0m\u001b[0;34m.\u001b[0m\u001b[0m__init__\u001b[0m\u001b[0;34m(\u001b[0m\u001b[0mopen\u001b[0m\u001b[0;34m(\u001b[0m\u001b[0mname\u001b[0m\u001b[0;34m,\u001b[0m \u001b[0mmode\u001b[0m\u001b[0;34m)\u001b[0m\u001b[0;34m)\u001b[0m\u001b[0;34m\u001b[0m\u001b[0;34m\u001b[0m\u001b[0m\n\u001b[0m\u001b[1;32m    212\u001b[0m \u001b[0;34m\u001b[0m\u001b[0m\n\u001b[1;32m    213\u001b[0m     \u001b[0;32mdef\u001b[0m \u001b[0m__exit__\u001b[0m\u001b[0;34m(\u001b[0m\u001b[0mself\u001b[0m\u001b[0;34m,\u001b[0m \u001b[0;34m*\u001b[0m\u001b[0margs\u001b[0m\u001b[0;34m)\u001b[0m\u001b[0;34m:\u001b[0m\u001b[0;34m\u001b[0m\u001b[0;34m\u001b[0m\u001b[0m\n",
            "\u001b[0;31mFileNotFoundError\u001b[0m: [Errno 2] No such file or directory: 'transformer_german_to_english.pt'"
          ]
        }
      ]
    },
    {
      "cell_type": "code",
      "metadata": {
        "id": "Y8mHRjHYn2DM"
      },
      "source": [
        ""
      ],
      "execution_count": null,
      "outputs": []
    }
  ]
}